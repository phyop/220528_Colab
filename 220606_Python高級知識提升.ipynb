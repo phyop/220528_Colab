{
  "nbformat": 4,
  "nbformat_minor": 0,
  "metadata": {
    "colab": {
      "name": "220528_Python高級知識提升.ipynb",
      "provenance": [],
      "collapsed_sections": [],
      "authorship_tag": "ABX9TyPXSU4eSdLu7lyma+TnwMt/",
      "include_colab_link": true
    },
    "kernelspec": {
      "name": "python3",
      "display_name": "Python 3"
    },
    "language_info": {
      "name": "python"
    }
  },
  "cells": [
    {
      "cell_type": "markdown",
      "metadata": {
        "id": "view-in-github",
        "colab_type": "text"
      },
      "source": [
        "<a href=\"https://colab.research.google.com/github/phyop/220528_Colab/blob/main/220528_Python%E9%AB%98%E7%B4%9A%E7%9F%A5%E8%AD%98%E6%8F%90%E5%8D%87.ipynb\" target=\"_parent\"><img src=\"https://colab.research.google.com/assets/colab-badge.svg\" alt=\"Open In Colab\"/></a>"
      ]
    },
    {
      "cell_type": "code",
      "execution_count": null,
      "metadata": {
        "id": "fcg6dAsrJLnk"
      },
      "outputs": [],
      "source": [
        "《Python允許在類外部增加物件屬性，但不推薦 - \"物件.屬性=值\"》\n",
        "https://www.udemy.com/course/python-o/learn/lecture/15642472#overview\n",
        "\n",
        "\n",
        "# 不推薦原因：屬性應該被封裝在類的內部\n",
        "\n",
        "\n",
        "# Python解釋器看到class之後，會記得有ClassName這個類，但不會跳進去執行裏面的code。這和看到def的情況是一樣的\n",
        "class ClassName(object):\n",
        "    \"\"\"類說明\"\"\"\n",
        "    # 有self，所以是物件方法，也就是對物件做初始化\n",
        "    def __init__(self, arg):\n",
        "        # 自xxx類繼承物件初始化\n",
        "        super(ClassName, self).__init__() \n",
        "        self.arg = arg # 定義自己的物件屬性\n",
        "\n",
        "    def eat(self): # self: <__main__.ClassName object at 0x7f53495524e0>\n",
        "        print(\"eat\")\n",
        "\n",
        "\n",
        "tom = ClassName() \n",
        "# 使用pycharm驗證，Python允許在類外部增加物件屬性。在「tom.name = \"Tommy\"」這邊設斷點\n",
        "tom.name = \"Tommy\" # tom={ClassName}<__main__.ClassName object at 0x7f53495524e0>\n",
        "# 會得到tom是{ClassName}類，值ClassName object，記憶體地址0x7f53495524e0\n",
        "# tom的下拉會出現「arg={NoneType}None」\n",
        "# 也就是tom有一個物件屬性arg，是{NoneType}類，值None\n",
        "# 當點擊\"步入 Step Into\"，tom的下拉就會多出現「name={str}'Tommy'」\n",
        "# 這就是Python允許在類外部增加物件屬性的證明\n",
        "tom.eat() # 點擊\"步入 Step Into\"，調用self.eat()方法\n",
        "# 會出現self={ClassName} <__main__.ClassName object at 0x7f53495524e0>\n",
        "# 可以觀察到，self和tom指向的地址都是0x7f53495524e0。代表，「self這個物件，就是tom這個物件」！！\n",
        "# 哪一個物件調用方法，self就是指向那一個物件的地址\n",
        "# self的下拉會出現arg={NoneType}None，以及name={str}'Tommy'\n",
        "\n"
      ]
    },
    {
      "cell_type": "code",
      "source": [
        "《魔法(內建)方法 - __del__》\n",
        "# 物件在準備從記憶體銷毀之前，會先自動調用__del__方法\n",
        "# 也就是說，比如程序要結束前，所有的物件都會從記憶體釋放，那這時候物件們就會各自自動調用__del__方法\n",
        "# 又或者是，在code中，自己主動寫\"del 物件\"，那也會調用__del__方法\n",
        "# 所以比如想檢查記憶體有沒有被釋放，可以自定義__del__方法，去print一段訊息來識別\n",
        "\n",
        "\n",
        "《魔法(內建)方法 - __str__》\n",
        "# print(物件)的預設輸出是 -> 物件類名 object at 記憶體位置(16進制)\n",
        "# 在類中自定義__str__方法，就可以改變print(物件)的預設輸出了。因爲是print，所以__str__必須返回一個字符串\n"
      ],
      "metadata": {
        "id": "J5fWsIHDkbk-"
      },
      "execution_count": null,
      "outputs": []
    },
    {
      "cell_type": "code",
      "source": [
        "《pycharm - debug模式》\n",
        "https://www.796t.com/content/1545708318.html\n",
        "\n",
        "# 步過 Step Over：在單步執行時，在函式內遇到子函式時不會進入子函式內單步執行，而是將子函式整個執行完再停止，也就是把子函式整個作為一步。\n",
        "# 在不存在子函式的情況下是和Step Into效果一樣的（簡而言之，越過子函式，但子函式會執行）。\n",
        "# 步入 Step Into：單步執行，遇到子函式就進入並且繼續單步執行（簡而言之，進入子函式）。\n",
        "# 單步執行我的代碼 Step Into My Code：進入自己編寫的函式，不進入系統函式，很少用到。\n",
        "# Force Step Into：強制進入，在除錯的時候能進入任何方法。\n",
        "# 步出 Step Out：當單步執行到子函式內時，用Step Out就可以執行完子函式餘下部分，並返回到上一層函式。\n",
        "# 運行到光標處 Run to Cursor：一直執行，到游標處停止，用在迴圈內部時，點選一次就執行一個迴圈。\n",
        "\n",
        "《pycharm - 智能提示》\n",
        "# pycharm使用物件調用方法時，智能提示方法名的後面，會跟上所屬的類\n",
        "# 也就是說，智能提示後面顯示的，通常都會是物件自己的類名，但如果顯示的其他類名，那就很可能是因爲本類找不到，所以去父類以上尋找\n",
        "# 有子類的話，那行數邊會顯示特殊符號，遊標移過去會顯示\"subclassed by\"，就會看到所有的子類名稱了"
      ],
      "metadata": {
        "id": "k_C-kUqxWxHi"
      },
      "execution_count": null,
      "outputs": []
    },
    {
      "cell_type": "code",
      "source": [
        "《記憶體》\n",
        "# Python中，變量名和數據，是分別存儲，所以才可以做到，變量名可以隨時改指向數據，或是同一數據可以有多個變量同時指向。\n",
        "# 數據就是記憶體中的一塊區域，而變量就是一個標籤\n",
        "\n",
        "\n",
        "《類》\n",
        "# 封裝就是，把屬性、方法封裝在類的內部，外部要創建物件，然後使用物件調用方法\n",
        "# 要被使用到的類，通常要先開發。比如房子類會調用到家具，那家具類就要先開發\n",
        "# 類和類之間，2個空行；方法和方法之間，1個空行\n",
        "# 兄弟類之間因爲沒有繼承關系，所以不能調用。因爲如果可以調用的話，那所有類都是繼承自object，不就亂套了嗎\n",
        "# 在類外部打上「物件.」的時候，後面的智能提示不會顯示私有屬性、私有方法的選項給我們選\n",
        "# 如果在外部硬要使用，那就是要在調用之前，多加上_類名，比如「_類名__私有方法名()」\n",
        "# Python中一切皆object；Linux中一切皆file\n",
        "# 類在Python中是一個特殊的物件，類物件在記憶體中只有一份，可以用來創建出很多個實例物件\n",
        "# 既然類是物件，那類也會有類屬性、類方法\n",
        "# 比如如果想要記錄這個類創建了多少個物件，就可以定義一個類屬性count=0，每當__init__()被調用一次，count就會+1\n",
        "# 一般是使用「類名.類屬性名」，不過也可以使用「物件名.類屬性名」查找到，但因爲閱讀性不佳，容易混淆，所以不推薦\n",
        "# 而且前提是物件裏面要沒有同名屬性，才會從物件往上一層的類去查找屬性名\n",
        "# 賦值的時候，如果使用「物件名.類屬性名」，則不是更改類屬性，而是會在物件名中增加一個屬性\n",
        "# Python中物件方法的定義，比別的語言多了self，就是爲了增加可讀性，一看就知道這是物件方法\n",
        "# 同理，一看到cls，以及@classmethod，就知道已經到了類方法的層級\n",
        "# \n",
        "\n",
        "\n",
        "《code太長》\n",
        "# 1. 在一行末尾加上'\\'\n",
        "# 2. 以逗號連線的，可以不加'\\'\n",
        "# 3. 使用()，會自動將內部code連在一起\n",
        "\n",
        "\n",
        "《屬性》\n",
        "# 如果有個屬性在類中預設是沒有的，那就不需要傳入實參，直接在__init__中定義屬性(封裝的概念)，然後給None值就好了\n",
        "# 物件的屬性，可以是由另一個類所創建而來的物件。比如soldier類可以擁有gun的屬性，而gun也是一個類\n",
        "# self.gun.fire()，物件1.物件2.方法()。其實就是soldier物件1，擁有gun物件2的屬性，再利用gun物件2去調用物件2的方法\n",
        "# 雖然乍看是soldier類調用fire()方法，違反了封裝的概率，但其實是soldier類內部有gun的屬性，利用gun的物件去調用，所以仍然是好的封裝\n",
        "\n",
        "\n",
        "《方法》\n",
        "# 開頭，先判斷目前的條件能不能被調用，比如參數是否超過上下界之類的，或是是否以達到使用此方法的條件。反正就是各自邊界條件先判斷就對了\n",
        "# 中間，就是code主文\n",
        "# 結尾，更新各種受影響的參數\n",
        "# return後面如果什麼也沒寫，那預設就是None\n",
        "# 多態就是，不同子類去針對同一個父類方法進行各自的改寫(overwrite)\n",
        "\n",
        "\n",
        "《is和==的差異》\n",
        "# is用於判斷地址，類似id(a) == id(b)。雖然值相同，但物件不同，那仍然是False\n",
        "# ==用於判斷值是否相同。雖然地址不同，但值相同，那就是True\n",
        "# None是一個特別的「物件」，既然是物件那就是地址有關，所以建議使用is做判斷\n",
        "# 「建議」就是不強制，所以要用==做判斷也不是不行的意思。就是PEP8會提示建議修改而已\n",
        "\n"
      ],
      "metadata": {
        "id": "9_qoArTStMm-"
      },
      "execution_count": null,
      "outputs": []
    },
    {
      "cell_type": "code",
      "source": [
        "《super》\n",
        "# 如果直接同名同參數改寫(overwrite)父類方法，那就是廢棄了父類，完全只依照子類的code去做\n",
        "# 如果要引用父類方法當作子類中的一部分code，那就要寫super().父類方法\n",
        "# super是一個很特別的類，所以super()是super類創建出來的物件\n",
        "# 比如父類是Dog，子類是Xiaotian，都有bark()方法。那子類要調用父類，就是創建super物件去掉用，super().bark()\n",
        "# Python2.7版本，沒有super，所以要寫成「父類名.方法(selfs)」，變成Dog.bark(self)。缺點是，子類code中所有要調用父類方法的地方，全部都要替換\n",
        "# 如果寫錯了，比如Xiaotian類中要調用Dog.bark(self)，但寫成自己的Xiaotian.bark(self)，方法內部調用自己正在寫的方法，那就會是死循環而不停報錯同一行\n",
        "# 父類的私有屬性、方法，子類是看不到的\n",
        "# 要調用父類私有屬性、方法，要嘛前面加_類名，要嘛父類的公有方法中，要有提供私有屬性、方法的調用API，那子類的物件就可以透過API去調用到父類的私有屬性、方法了\n",
        "\n",
        "\n",
        "《繼承》\n",
        "# python3中都是新式類，如果不給參數可以連()都省略，也會自動繼承object。相當於Python2中的「class 類名(object):」。\n",
        "# 既然要自動繼承，就代表有好處，那就是擁有各種魔法(內建)方法\n",
        "# 經典(舊式)類中，dir(物件名)查找所有魔法(內建)方法，只會含有['__doc__', '__module__']\n",
        "# dir(物件名)不是存在於類中的魔法(內建)方法，所以呼叫不用加底線\n",
        "\n",
        "\n",
        "《多繼承》\n",
        "# 如果父類之間存在同名屬性/方法，那就應該盡量避免使用多繼承\n",
        "# 如果還是使用了多繼承，那就會依照解析順序（Method Resolution Order, MRO）的繼承先後順序，去選擇調用哪個類下的方法\n",
        "# 類有一個魔法(內建)屬性__mro__，裏面存放了調用的路徑"
      ],
      "metadata": {
        "id": "6YVd6RyZ7fUU"
      },
      "execution_count": null,
      "outputs": []
    },
    {
      "cell_type": "code",
      "source": [
        "《靜態方法》\n",
        "# 在pycharm中，如果發現封裝在類中的方法，是既不需要訪問實例屬性，也不需要訪問類屬性，那就會提示可能是「靜態方法」\n",
        "# 雖然實質上是個靜態方法的體質，但如果把self硬是加進去當第一個參數，也只是提示可能是靜態方法，但執行起來是不會報錯的\n",
        "# 如果刪除掉self，則pycharm會有虛線提示，通常第一個參數是self，因爲一個沒掛類或靜態裝飾器的方法，會被認定就是實例方法\n",
        "# 所以爲了一切沒有問題提示的虛線會再次產生了，這時候要明確加上@staticmethod\n",
        "# 類方法加上@classmethod也是同理，並且裝飾器也可以增加可閱讀性\n",
        "# 實例方法因爲最常見，所以Python設計其不需要加@\n",
        "# 因爲靜態方法是封裝在類中，所以要調用的話，可以使用「類名.靜態方法名」\n",
        "# 結論，要訪問物件屬性的就用物件方法，訪問類屬性的是類方法。2者屬性都不訪問，但要封裝在類中的方法，就是靜態方法\n",
        "# 如果既要訪問實例屬性，又要訪問類屬性，那就用實例方法。因爲在實例方法的內部中，可以使用「類名.類屬性」去訪問到類屬性\n",
        "# 而如果在類的內部中，想要去訪問到物件屬性，就必須使用到self，那就還是會變成是實例方法了"
      ],
      "metadata": {
        "id": "gnBSnwkKkXzF"
      },
      "execution_count": null,
      "outputs": []
    },
    {
      "cell_type": "code",
      "source": [
        "《內建方法 - __new__》\n",
        "# 類名()指令，會調用__new__()，在記憶體中取得一塊分配到的空間\n",
        "# 並返回物件地址(或稱爲引用)，讓__init__()中的self去指向這個地址\n",
        "# 這也是創建完物件後，去print(物件)，會返回物件地址的原因。因爲就是__init__會從__new__那邊取得到，物件所分配到的記憶體起始地址\n",
        "# 所謂魔法方法，其實就是源自父類(基類)object的內建方法\n",
        "# 重寫__new__方法，一定要「return super().__new__(cls)」，這樣才會有去向記憶體取得空間，以及傳送起始地址給要調用的__init__\n",
        "# 創建super物件，去調用父類的__new__()方法\n",
        "# __new__是一个静态方法，而__init__是一个实例方法\n",
        "# __new__方法会返回一个创建的实例，而__init__什么都不返回\n",
        "# object.__new__(cls[, ...])调用以创建一个 cls 类的新实例\n",
        "\n",
        "\n",
        "# 創建物件時，首先會自動調用__new__()\n",
        "# 因爲__new__()是靜態方法，所以cls並不是強迫在首參數，而是一般參數，代表目前調用的類\n",
        "def __new__(cls, *args, **kwargs):\n",
        "    # 使用super()去取得父類的__new__方法，才有辦法去向記憶體取得空間，以及傳送起始地址給要調用的__init__\n",
        "    # 這個cls是代表從def __new__中取得到的實參，傳遞給父類的__new__方法去建構一連串的記憶體取得、調用__init__等程序\n",
        "    instance = super().__new__(cls)\n",
        "    # 不返回物件(引用)地址，解釋器就不會調用__init__方法\n",
        "    return instance"
      ],
      "metadata": {
        "id": "hSF8jWpKs1as"
      },
      "execution_count": null,
      "outputs": []
    },
    {
      "cell_type": "code",
      "source": [
        "《为什么__new__中的cls能表示当前类？》\n",
        "https://www.zhihu.com/question/318097303\n",
        "\n",
        "首先，staticmethod并不强制要求第一个参数为当前类（可以是任何普通参数），\n",
        "但是这并不妨碍我们把当前类就当作一个普通参数作为staticmethod的参数，\n",
        "也可以作为第二个、第三个参数（可以作为第一个参数，像__new__）。\n",
        "cls只是一个变量名，并不代表什么。重要是函数被call的时候，是用的什么参数值。\n",
        "\n",
        "其次，为什么__new__这个staticmethod被call的时候，第一个参数的参数值就是类呢？\n",
        "这是因为__new__作为一个python的magic method，是被called来创造类的对像的；\n",
        "它的返回值就是类的对象。要创造一个类的对象，就必须需要当前类的信息，\n",
        "所以当前类就被__new__当作第一个参数的参数值。\n",
        "\n",
        "然后，既然__new__被called的时候第一个参数的参数值为类，为什么不把__new__设计成为classmethod呢？\n",
        "因为__new__的第一个参数可以不等于当前类（而是其他类，比如base类）。\n",
        "如果把__new__ 设计为classmethod，那么__new__第一个参数必须为当前类。\n",
        "但是有的时候，比如有继承结构的时候，我们要在base类里调用__new__来创造子类的对象。\n",
        "这个时候，如果__new__ 是classmethod就做不到了。\n",
        "\n",
        "最后，把类class当作staticmethod的参数之一其实是factory design pattern里常用到的。\n",
        "比如在base类里定义一个staticmethod，第一个参数为某个类。\n",
        "然后可以call这个staticmethod创造出很多不同类的对象（比如很多不同子类的对象）。"
      ],
      "metadata": {
        "id": "6TQsWP9wmL4R"
      },
      "execution_count": null,
      "outputs": []
    },
    {
      "cell_type": "code",
      "source": [
        "《單例-在系統中只有一個實例》\n",
        "# 「設計模式-單例」，讓類建立的物件，在系統中只有一個實例，比如：音樂播放同時間只有一首，資源回收桶一個操作系統只有一個，印表機同一時間只印一個資料來源\n",
        "# 設計模式，針對某一特定問題，前人成熟的解決模式\n",
        "# 「類名()」在系統中，也是單例，也就是不管執行幾次，返回的記憶體地址都是同一個\n",
        "# 也就是說，記憶體中的類就只有一份，但可以做出多個物件\n",
        "\n",
        "\n",
        "class Single_ins(object):\n",
        "    \"\"\"讓這個類在系統中只能創建一次單例\"\"\"\n",
        "    # 用來記錄實例是不是已經被創建過了\n",
        "    instance = None\n",
        "    # 用來記錄是不是執行過初始化的動作了\n",
        "    init_flag = False\n",
        "\n",
        "    # 類方法的cls，是首要參數，用於指定當前類\n",
        "    # __new__是靜態方法，所以cls是一般參數，通常也是指定當前類沒錯\n",
        "    # 但有繼承關系的時候，卻不一定是指定當前類\n",
        "    def __new__(cls, *args, **kwargs):\n",
        "        # 先看看目前有沒有實例，有的話就直接返回，沒的話才進去if做創建\n",
        "        # None是一個特別物件，而「物件用is」\n",
        "        if instance is None:\n",
        "            # super是一個特殊類，所以要建立物件，才能去調用物件方法\n",
        "            # 不能直接「return super().__new__(cls)」\n",
        "            # 因爲這樣就不會去改變instance的記錄值\n",
        "            # 使用當前類作爲參數，去呼叫MRO中排序第一的父類__new__方法\n",
        "            # 然後讓當前類屬性instance去指向，返回的記憶體地址\n",
        "            # 所以此時類屬性instance，就不再會是None了\n",
        "            cls.instance = super().__new__(cls)         \n",
        "        return cls.instance\n",
        "\n",
        "    # 每次創建物件時，除了__new__以外，還會調用__init__\n",
        "    # 雖然每次創建物件時，已經讓__new__不再創建新的物件（只回傳同一個地址）\n",
        "    # 但每次__new__去調用__init__時，這個物件都會不斷的被重新初始化\n",
        "    # 如果是不想讓物件不斷的被重新初始化，那就要執行下面的動作    \n",
        "    def __init__(self):\n",
        "       if Single_ins.init_flag:\n",
        "        # 如果已經執行過初始化了，那就不需要執行下方的code\n",
        "        # 使用return，就可以直接結束這個方法\n",
        "        # return後面默認是None\n",
        "        return\n",
        "\n",
        "        # 如果沒有初始化過，那就要執行初始化動作，並且把flag做更改\n",
        "        print(\"執行初始化動作\")\n",
        "        Single_ins.init_flag = True "
      ],
      "metadata": {
        "id": "30UCuu91uu_v"
      },
      "execution_count": null,
      "outputs": []
    },
    {
      "cell_type": "code",
      "source": [
        "《try except》\n",
        "\"\"\"\n",
        "try：\n",
        "    # 可能會引發異常的code\n",
        "except 錯誤類型e1:\n",
        "    # 發生異常類型e1，才會執行這邊的code\n",
        "except (錯誤類型e2, 錯誤類型e3):\n",
        "    # 發生異常類型e2、e3，才會執行這邊的code\n",
        "except Exception as e0:\n",
        "    # 發生異常，但不是e1～e3的類型，才會執行這邊的code\n",
        "else:\n",
        "    # 沒有異常，才會執行這邊的code\n",
        "finally:\n",
        "    # 不論是否異常，都會執行這邊的code\n",
        "\"\"\"\n",
        "\n",
        "# 比如要讓使用者自己設除數，做除法的時候，就可以自己故意先做一些錯誤，得到python的異常回報\n",
        "# 拋出異常的最後一行訊息，第一個單詞就是錯誤類型，比如：ValueError、ZeroDivisionError\n",
        "# 然後根據各別Error類型，來設定except要做些什麼事\n",
        "# 同理，也可以上線運行後，搜集系統回報user的一些Error類型，去增加對應的except要做什麼動作\n",
        "\n"
      ],
      "metadata": {
        "id": "Jo5OilrFtydq"
      },
      "execution_count": null,
      "outputs": []
    },
    {
      "cell_type": "code",
      "source": [
        "《錯誤追蹤》\n",
        "\n",
        "# 如果每個函數下都要建異常處理的code，那就太麻煩了，所以異常處理通常都做在主程序中\n",
        "# 如果主程序也沒有做異常處理，程序才會被中止\n",
        "\n",
        "def demo1():\n",
        "    return int(input(\"輸入整數: \")) # (3) <----，最後發生錯誤的地方\n",
        "\n",
        "def demo2():\n",
        "    return demo1() # (2) <----，中間的調用，不重要，可以略過\n",
        "                   # 異常發生時，會往上層查是誰調用，看有沒有異常處理\n",
        "                   # 發現這層的調用沒有異常處理，所以再往上一層找\n",
        "\n",
        "demo2() # (1)Traceback (most recent call last)，調用的最源頭\n",
        "        # 發現這層的調用也沒有異常處理，但沒有辦法再往上一層找，所以在這邊拋出Traceback Error\n",
        "\n",
        "# 最後一行訊息，第一個單詞\"ValueError\"就是錯誤類型\n",
        "# (4) ValueError: invalid literal for int() with base 10: 'a'\n"
      ],
      "metadata": {
        "id": "Xq4_iQ4oJWZQ"
      },
      "execution_count": null,
      "outputs": []
    },
    {
      "cell_type": "code",
      "source": [
        "《exception》\n",
        "# 有主動避免結束程序的try - except Exception，那相對也有主動拋出異常，結束程序的raise - Exception(\"xxx\")\n",
        "# Exception是一個類，所以可以建立物件。而raise是關鍵字，後面接上Exception類的物件\n",
        "# 智能提示會顯示，Exception(*args)，代表裏面可以放不定參數\n",
        "\n",
        "\n",
        "def foo():\n",
        "    ex = Exception(\"錯誤提示訊息\") # 創建Exception類的物件\n",
        "    raise ex # raise是關鍵字，後面接上Exception類的物件\n",
        "\n",
        "try:\n",
        "    foo() # 接收到拋出的異常\n",
        "except Exception as e: # 拋出的異常類型，符合這個except中可以被捕捉到類型，所以會執行下面巢狀中的code\n",
        "    # 在類中自定義__str__方法，就可以改變print(物件)的預設輸出了。因爲是print，所以__str__必須返回一個字符串\n",
        "    # 而Exception類的__str__方法，會去返回Exception()中的首參數字符串\n",
        "    print(e) # 印出「錯誤提示訊息」\n"
      ],
      "metadata": {
        "id": "n3GqJhQqKSpw"
      },
      "execution_count": null,
      "outputs": []
    },
    {
      "cell_type": "code",
      "source": [
        "《module/library、package》\n",
        "\n",
        "796t.com/content/1547496570.html\n",
        "\n",
        "# module，說白了，就是Python檔案，而python檔案一般字尾為py，所以就是你的xxx.py而已\n",
        "# 所以py檔名稱最好也符合命名規則，比如不能數字開頭、用下劃線連接...\n",
        "# 雖然可以一次導入多個模組「import 模組1, 模組2, ...」，但爲了提高閱讀性，最好每個模組獨佔一行\n",
        "# package，可以簡單的理解為，一組的module，一堆（相關的）module組合而成的；\n",
        "# Python中library等價於module；只不過，Python中，很少說library，正常的話，都是說module\n",
        "# 本身library這個詞，一般都是針對其他的編譯型語言，比如C中靜態的庫檔案：xxx.a，動態的庫檔案：xxx.dll\n",
        "\n",
        "\n",
        "# 匯入單個的module，一般是這樣的：\n",
        "import my_module\n",
        "\n",
        "\n",
        "# 匯入package一般是這樣的\n",
        "from my_package.timing.danger.internets import function_of_love\n",
        "\n",
        "\n",
        "# module：單個的模組，一般是單個（偶爾為多個）python檔案\n",
        "# package：多個相關的module的組合。肯定是多個，相關的，Python檔案的組合；package是用來把相關的模組組織在一起，成為一個整體的；"
      ],
      "metadata": {
        "id": "x_WKWOuG8Bbq"
      },
      "execution_count": null,
      "outputs": []
    },
    {
      "cell_type": "code",
      "source": [
        "《import》\n",
        "# 「import 模組」是一次性的全部導入，使用「模組名.方法」呼叫\n",
        "# as後的模塊別名，應該符合大駝峯命名法\n",
        "# from 模組名 import 方法，是導入模塊中的部分，比如一部分的全局變量、函數、類。使用「方法」呼叫。\n",
        "# 「from 模組 import *」導入所有工具。好處是可以少呼叫模組，直接使用「方法」呼叫\n",
        "# 但如果發生2個以上模組有相同的函數，而自己不知道的情況下，解釋器會將重名的後導入，去覆蓋重名的前導入\n",
        "# 但user卻只會覺得執行結果的不合理，而不知道造成的原因居然是另一個模組也有重名函數，所以解釋器選錯了函數\n",
        "# 舉例來說，如果模組1、模組2都有重名的全局變量、方法，但是類沒有重名\n",
        "# 我們先「from 模組1 import *」，後「from 模組2 import *」的話\n",
        "# 在調用全局變量、方法、類的時候，會造成調用到模組2的變量、方法，但是調用到模組1的類\n",
        "# 產生混亂情況，造成偵錯困難，所以不建議使用「from 模組 import *」\n",
        "# 如果同名函數都想要一起用，那就可以用as去起別名，避免同名覆蓋前導入\n",
        "\n",
        "\n",
        "# 「模組名.__file__」，可以查到目前使用的模組，其放置的路徑在哪裏，如果多個的話，中間會以空格分開\n",
        "# import時，會先搜尋當前目錄，有沒有這個模組名，沒有就往系統存放模組們的目錄去尋找，比如/usr/lib/python3.6/\n",
        "# 自己的模組名，不要和系統有的模組重名，不然會偵錯困難\n",
        "# 如果因爲重名，所以要刪除某個模組，pycharm會通知目前模組目前在幾個地方被使用。這時候就要先查「模組名.__file__」，去備份起來後才刪\n",
        "\n",
        "\n",
        "# __name__屬性判斷，模組A在這邊因爲是被引用，所以__name__會是\"模組A\"，不是\"__main__\"\n",
        "# 模組就是文件，所以被導入的文件中，任何沒有縮進的code，都會被執行一次\n",
        "# 也就是說，如果模組A中有一行沒有縮進的code寫「print(\"xxx\")」，那我們在import 模組A之後，就會先印出xxx，即使我們根本不希望\n",
        "# 我們想要的，就只是使用模組A的方法、類而已，所以這時候可以把模組A那些「能夠被直接執行code」，寫到「if __name__ == \"__main__\":」下\n",
        "# 或是乾脆再打包成一個方法叫做main()，所以很多Python文件會有以下的code\n",
        "# 把可以執行\n",
        "...\n",
        "def main():\n",
        "    pass\n",
        "\n",
        "if __name__ == '__main__':\n",
        "    main()\n"
      ],
      "metadata": {
        "id": "zk6qzn8KFwUk"
      },
      "execution_count": null,
      "outputs": []
    },
    {
      "cell_type": "code",
      "source": [
        "《package》\n",
        "# 方法一：在當前目錄手動創建一個資料夾，在裏面創建__init__.py檔案，以及其他的modules\n",
        "# 方法二：pycharm中，在當前目錄 -> 右鍵 -> New -> Python Package，就會自動創建一個資料夾，並在裏面創建__init__.py檔案\n",
        "# 因爲package也是要被導入的，而要被導入的，命名方式有和模塊變量規則一樣，比如可以小寫字母和_的組合，但不要以數字開頭\n",
        "# package是一個特殊的目錄，裏面包含特殊文件__init__.py，以及多個module\n",
        "# 需要有__init__.py的用意是，要在裏面指定「對外界提供」的模組列表，比如「from . import 要對外界提供的模組名」，其中.是當前目錄\n",
        "# package的__init__.py，定義了這樣的模組列表之後，main file在import package之後，打了package的後面，才會智能提示「有提供的模組名」\n"
      ],
      "metadata": {
        "id": "xrs2WajdMXIn"
      },
      "execution_count": null,
      "outputs": []
    },
    {
      "cell_type": "code",
      "source": [
        "《公開發布module》\n",
        "# http://wsfdl.com/python/2015/09/06/Python%E5%BA%94%E7%94%A8%E7%9A%84%E6%89%93%E5%8C%85%E5%92%8C%E5%8F%91%E5%B8%83%E4%B8%8A.html\n",
        "\n",
        "\n",
        "1. 創建文件：setup.py\n",
        "2. (terminal)構建module：pyhton setup.py build\n",
        "3. (terminal)生成壓縮包：pyhton setup.py sdist\n",
        "\n",
        "\n",
        "# 當建好衆多py檔的modules，放進package資料夾，並且也在__init__.py中定義好可以被import的modules後\n",
        "# 就可以在pycharm點擊package，然後在頂列選擇「工具」 -> 「創建setup.py」，按照格式填入資訊，就會幫你自動建立了\n",
        "# 或是使用分发（distribute）工具（utlis），手動創建setup.py\n",
        "\n",
        "\n",
        "1. 創建文件：setup.py\n",
        "# 在package外創建setup.py檔案\n",
        "from distutils.core import setup\n",
        "# 調用setup()，傳入「多值的字典參數」\n",
        "setup(name = \"package包\",\n",
        "      version=\"版本號\",\n",
        "      description=\"模組1, 模組2\",\n",
        "      long_description=\"模組1功用是xxx, 模組2功用是xxx\",\n",
        "      author=\"Sean\",\n",
        "      author_email=\"xxx@gmail.com\",\n",
        "      url=\"https://github.com/phyop\",\n",
        "      py_modules=[\"包名.模組1\", # 以list形態，指定想要打包到壓縮包的modules\n",
        "                  \"包名.模組2\"])\n",
        "\n",
        "\n",
        "2. (terminal)構建module：pyhton setup.py build\n",
        "# 假設一個資料夾dist_test下 -> 同時放了package包、setup.py\n",
        "# 使用build指令後，dist_test下 -> 會多出一個build的資料夾 -> 裏面有lib的資料夾 -> 再裏面有__init__、模組1.py、模組2.py\n",
        "# 並且在dist_test資料夾的 -> package包下 -> 也會多出__pycache__的資料夾 -> 裏面會有__init__.cpython-36.pyc、模組1.cpython-36.pyc、模組2.cpython-36.pyc\n",
        "\n",
        "\n",
        "3. (terminal)生成壓縮包：pyhton setup.py sdist\n",
        "# source distribution(sdist) 和wheels 这两种格式python package，如果二者同时存在，pip 优选选择wheel\n",
        "# 使用sdist指令後，dist_test資料夾下 -> 會多出一個dist的資料夾 -> 裏面有「package包-版本號.tar.gz」壓縮檔\n",
        "# 所以分享這個「package包-版本號.tar.gz」壓縮檔出去就OK了\n",
        "# 此外dist_test資料夾下 -> 也多了「MANIFEST」檔案(旅客名单；载货单；显示；证实)"
      ],
      "metadata": {
        "id": "XppfFb8R54y1"
      },
      "execution_count": null,
      "outputs": []
    },
    {
      "cell_type": "code",
      "source": [
        "《package - 安裝》\n",
        "# 安裝package，先解壓縮，再install\n",
        "$ tar -zxvf package包-版本號.tar.gz # 標準解壓縮\n",
        "$ cd package包-版本號/ # 進入解壓縮的資料夾\n",
        "$ ls -l # 會發現多了一個PKG-INFO檔案\n",
        "$ cat PKG-INFO # 版本號、包名、敘述、url、作者...\n",
        "$ sudo python setup.py install # 因爲是install，所以需要root權限\n",
        "# 注意最後一行，可以知道安裝到哪裏去\n",
        "# \"Writing /usr/local/lib/python3.6/dist-packages/package包-版本號.egg-info\"\n",
        "# 這時候就可以cd到/usr/local/lib/python3.6/dist-packages/去查看，的確存在着「package包-版本號」這個包\n",
        "# 然後直接打開ipython，使用「import package包」，然後隨便呼叫一個裏面的方法，package包.module名.方法(參數)，試看看可不可以work\n",
        "\n",
        "\n",
        "《package - 卸載》\n",
        "# 先去查package的位置，「package名.__file__」\n",
        "# 然後到目錄下，刪除指定的package就好了\n",
        "$ cd /usr/local/lib/python3.6/dist-packages/\n",
        "$ sudo rm -r package包* # 刪除包相關的資料，包括egg.info檔\n"
      ],
      "metadata": {
        "id": "SmxcXF8QDpW4"
      },
      "execution_count": null,
      "outputs": []
    },
    {
      "cell_type": "code",
      "source": [
        "《egg.info》\n",
        "# egg文件，把一系列的python源码文件、meta数据文件、其他资源文件压缩为.egg，目的是作为一个整体进行发布\n",
        "# python的egg檔案有點像java中的jar檔案，其實就是一個便於安裝部署的壓縮包\n",
        "# egg-info应该是一个目录，里面存了各种metadata文件。比如，depends.txt文件，罗列了包依赖关系\n",
        "# xxx.egg-info 一般与 xxx文件夹同时存在，一起来表示完整模块\n"
      ],
      "metadata": {
        "id": "NU77EujB-PdN"
      },
      "execution_count": null,
      "outputs": []
    },
    {
      "cell_type": "code",
      "source": [
        "《logging - 輸出到控制臺》\n",
        "https://www.udemy.com/course/python-en/learn/lecture/15690958#overview\n",
        "\n",
        "import logging\n",
        "\n",
        "# %(xxx)s -> xxx是變數，type是string\n",
        "# asctime -> log產生的日期 \n",
        "# filename -> 因哪一份文件，而產生這條log\n",
        "# lineno -> 因第幾行代碼，而產生這條log\n",
        "# levelname -> 這條log的層級\n",
        "# message -> user指定的日誌信息\n",
        "logging.basicConfig(level=logging.WARNING, \n",
        "                    format='%(asctime)s - %(filename)s[line:%(lineno)d] - %(levelname)s: %(message)s')\n",
        "\n",
        "\n",
        "# 預設會是logging.WARNING，所以DEBUG、INFO層級的log不會被記錄下來\n",
        "logging.debug('this is logging DEBUG message')\n",
        "logging.info('this is logging INfO message')\n",
        "logging.warning('this is logging WARNING message')\n",
        "logging.error('this is logging ERROR message')\n",
        "logging.critical('this is logging CRITICAL message')\n",
        "# 2022-06-06 00:52:33,339 - <ipython-input-6-35d6bde56d7a>[line:22] - WARNING: this is logging WARNING message\n",
        "# 2022-06-06 00:52:33,341 - <ipython-input-6-35d6bde56d7a>[line:23] - ERROR: this is logging ERROR message\n",
        "# 2022-06-06 00:52:33,343 - <ipython-input-6-35d6bde56d7a>[line:24] - CRITICAL: this is logging CRITICAL message\n",
        "\n",
        "# 所以代表在colab中的file name是 \"<ipython-input-數字-16進位字串>\"\n",
        "\n"
      ],
      "metadata": {
        "id": "Z0X1s4brDq6u",
        "colab": {
          "base_uri": "https://localhost:8080/"
        },
        "outputId": "bdb61c22-7098-48c8-f089-081f6b75404e"
      },
      "execution_count": null,
      "outputs": [
        {
          "output_type": "stream",
          "name": "stderr",
          "text": [
            "2022-06-06 01:19:07,595 - <ipython-input-8-bf21641c0087>[line:22] - WARNING: this is logging WARNING message\n",
            "2022-06-06 01:19:07,600 - <ipython-input-8-bf21641c0087>[line:23] - ERROR: this is logging ERROR message\n",
            "2022-06-06 01:19:07,602 - <ipython-input-8-bf21641c0087>[line:24] - CRITICAL: this is logging CRITICAL message\n"
          ]
        }
      ]
    },
    {
      "cell_type": "code",
      "source": [
        "《logging - 輸出到文件》\n",
        "\n",
        "logging.basicConfig(level=logging.WARNING, \n",
        "                    filename='./log.txt',\n",
        "                    filemode='w',\n",
        "                    format='%(asctime)s - %(filename)s[line:%(lineno)d] - %(levelname)s: %(message)s')"
      ],
      "metadata": {
        "id": "xBBkNMljmIRj"
      },
      "execution_count": null,
      "outputs": []
    },
    {
      "cell_type": "code",
      "source": [
        "# 《logging - 輸出到控制臺&文件》\n",
        "\n",
        "# logging的好處是，可以同時print在銀幕上，並儲存在file中\n",
        "\n",
        "import logging\n",
        "\n",
        "# 創建日志物件logger，「記錄log」\n",
        "# 不創建的話，默認會是root\n",
        "logger = logging.getLogger()\n",
        "logger.setLevel(logging.INFO) # 輸出等級的「總開關」\n",
        "\n",
        "\n",
        "# 創建handler物件fh，「操作輸出到file」\n",
        "logfile = './log.txt' # 在當前目錄下建一個log.txt檔寫入日志\n",
        "fh = logging.FileHandler(logfile, mode='a') # log應該就是要不斷的append進去，而不是w的洗掉重寫\n",
        "fh.setLevel(logging.DEBUG) # 輸出到file的等級開關\n",
        "\n",
        "\n",
        "# 創建handler物件ch，「操作輸出到控制臺」\n",
        "ch = logging.StreamHandler()\n",
        "ch.setLevel(logging.WARNING) # 輸出到console控制臺的等級開關\n",
        "\n",
        "\n",
        "# 對handler設置輸出格式\n",
        "# 創建Formatter物件，參數爲輸出的格式\n",
        "formatter = logging.Formatter(\"%(asctime)s - %(filename)s[line:%(lineno)d] - %(levelname)s: %(message)s\")\n",
        "fh.setFormatter(formatter)\n",
        "ch.setFormatter(formatter)\n",
        "\n",
        "\n",
        "# 讓「記錄log」和「操作輸出的handler」進行關聯\n",
        "logger.addHandler(fh)\n",
        "logger.addHandler(ch)\n",
        "\n",
        "\n",
        "# 開始記錄日志\n",
        "# 實際的log應用，比如網管可以去記錄，有誰在什麼時間訪問了什麼檔案，或開啓了什麼url之類的，多久以後才關閉url之類的\n",
        "# 或是記錄下那些，發生try-except前後，或是什麼條件出發不符合if的情況，以作爲後續解決問題的復現資訊\n",
        "# 或是要統計分析數據時，也需要很多記錄，比如user的點擊路徑行爲，是從哪個頁面一直持續到哪個頁面\n",
        "# 哪個url被點擊的多，到達哪個網頁時又會導致user離開率最高，之類的，都可以作爲記錄保存下來，以作後續分析\n",
        "logger.warning(\"this is logging WARNING message\")\n",
        "# 2022-06-06 02:05:46,407 - <ipython-input-11-7830ec282369>[line:37] - WARNING: this is logging WARNING message"
      ],
      "metadata": {
        "colab": {
          "base_uri": "https://localhost:8080/"
        },
        "id": "0bEuLGrknaLN",
        "outputId": "6380378b-ae2a-4330-8f41-a83ef7239190"
      },
      "execution_count": null,
      "outputs": [
        {
          "output_type": "stream",
          "name": "stderr",
          "text": [
            "2022-06-06 02:06:06,530 - <ipython-input-12-7830ec282369>[line:37] - WARNING: this is logging WARNING message\n",
            "2022-06-06 02:06:06,530 - <ipython-input-12-7830ec282369>[line:37] - WARNING: this is logging WARNING message\n",
            "2022-06-06 02:06:06,530 - <ipython-input-12-7830ec282369>[line:37] - WARNING: this is logging WARNING message\n"
          ]
        }
      ]
    },
    {
      "cell_type": "code",
      "source": [
        "《globals()》\n",
        "# globals()返回字典，裏面存放了所有全局物件的引用值或地址，{物件:值或地址}\n",
        "# 所以爲什麼可以用全局變量，其實就是把物件名當作key，去到這個globals()這個字典裏面去找value\n",
        "# 因爲字典中的key不能重復，所以這也符合了不會有多個同名變量指向不同值。而應該是一個變量(key)，就是指向一個地址而已\n",
        "# 換言之，當定義函數、類、全局變量，其實就是對這些全局存放的物件，創建了物件\n",
        "# 然後在globals中的字典，添加入變量名，讓其value值爲剛剛創建的物件地址而已\n",
        "# 所以類名、函數名、全局變量名，就是key的名，value值都是記憶體的起始地址，也就是代表Python中一切皆物件，如同Linux中一切皆file\n",
        "\n",
        "\n",
        "glob = globals()\n",
        "type(glob) # dict\n",
        "\n",
        "# 假設我們定義了一個函數aa()\n",
        "def foo():\n",
        "    print(\"FOO\")\n",
        "\n",
        "# 那在globals中就會加入一個key是'foo'\n",
        "# 對字典的key-'foo'取值，顯示是一個function\n",
        "glbs['foo'] # <function __main__.foo>\n",
        "# 去調用function，的確可以印出\"FOO\"\n",
        "glbs['foo']() # FOO\n",
        "\n",
        "# 而globals()的返回中，有一個__builtin__的key，value顯示這是一個module\n",
        "# 取得__builtin__的module位置，然後使用__dict__查看包含哪些属性\n",
        "# __dict__会以字典形態，输出该物件中的所有属性名與值\n",
        "glbs['__builtin__'].__dict__\n",
        "# 其中有個key就是'print'，這就是我們隨便就可以使用print()的原因\n",
        "glbs['__builtin__'].__dict__['print'](\"hahaha\") # hahaha\n",
        "# 除此之外，裏面就包含了各種Error類別，也是我們可以寫try-except去捕捉的原因\n",
        "# 簡而言之，globals是一個字典，裏面除了我們自己定義全局變量，還有個__builtin__的key，存放了很多內建函數\n",
        "# 至於我們要使用函數或全局變量的時候，看來就是會先到globals裏面找，找不到就進下一層去__builtin__裏面找，再找不到就報錯\n"
      ],
      "metadata": {
        "id": "FuAaJ8R3xoEC"
      },
      "execution_count": null,
      "outputs": []
    },
    {
      "cell_type": "code",
      "source": [
        "《ipython、SQLite》\n",
        "# ipython是Python的簡單升級版，做了一些功能強化，比如In[]、Out[]，以及SQLite\n",
        "# 在ipython的globals()就找得到'Out':{xx:xx, ...}, 'In':[xx, ...]\n",
        "# mySQL功能高級，有區分server和client\n",
        "# 而SQLite功能簡單，不需要建立數據庫服務器，可以直接用程序打開，是一個內嵌型的數據庫，就像操作文件一樣簡單\n"
      ],
      "metadata": {
        "id": "wnzikZzTNYP6"
      },
      "execution_count": null,
      "outputs": []
    },
    {
      "cell_type": "code",
      "source": [
        "《元類》\n",
        "# Python最底層的，就是元類。tuple、list、dict、class、function等物件，都是由元類所創建出來的物件\n",
        "# 類，是一個模板，用來創建實例物件\n",
        "\n",
        "\n",
        "# 動態創建類，傳入的實參是'foo'就返回Foo類\n",
        "# 其他實參就返回Bar類\n",
        "def which_class(class_name):\n",
        "    if class_name == 'foo':\n",
        "        class Foo(object):\n",
        "            pass\n",
        "        return Foo # 返回的是類，不是類的實例\n",
        "    else:\n",
        "        class Bar(object):\n",
        "            pass\n",
        "        return Bar\n",
        "\n",
        "my_class = which_class('foo')\n",
        "print(my_class) # 返回的是類，不是類的實例\n",
        "# <class '__main__'.Foo>\n",
        "print(my_class()) # 創建類實例，也就是物件\n",
        "# <__main__.Foo object at 0x89c6d4c>\n",
        "\n",
        "\n",
        "# ObjectCreator的type，居然是'type'！？\n",
        "print(type(1)) # <type 'int'>\n",
        "print(type(ObjectCreator)) # <type 'type'>\n",
        "\n",
        "\n",
        "# 一個函數根據傳入的參數不同，可以有2總以上完全不同的功能\n",
        "# 這時候閱讀性上容易造成混淆，所以通常一個函數功能就應該單純的只有一個\n",
        "# 但type因爲歷史因素，爲了相容性，保留了2個功能\n",
        "\n",
        "\n",
        "當type傳入3個參數時，功能是創建一個類\n",
        "type(類名, 父類名稱組成的元組(根據繼承情況，可以爲空), 包含屬性的字典(名稱會值))"
      ],
      "metadata": {
        "id": "GOeCUzFMWadq"
      },
      "execution_count": null,
      "outputs": []
    }
  ]
}
