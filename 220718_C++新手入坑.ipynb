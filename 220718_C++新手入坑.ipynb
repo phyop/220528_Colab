{
  "nbformat": 4,
  "nbformat_minor": 0,
  "metadata": {
    "colab": {
      "name": "220718_C++新手入坑.ipynb",
      "provenance": [],
      "collapsed_sections": [],
      "authorship_tag": "ABX9TyOSL1W90tOiJwK0BIhEO6QL",
      "include_colab_link": true
    },
    "kernelspec": {
      "name": "python3",
      "display_name": "Python 3"
    },
    "language_info": {
      "name": "python"
    }
  },
  "cells": [
    {
      "cell_type": "markdown",
      "metadata": {
        "id": "view-in-github",
        "colab_type": "text"
      },
      "source": [
        "<a href=\"https://colab.research.google.com/github/phyop/220528_Colab/blob/main/220718_C%2B%2B%E6%96%B0%E6%89%8B%E5%85%A5%E5%9D%91.ipynb\" target=\"_parent\"><img src=\"https://colab.research.google.com/assets/colab-badge.svg\" alt=\"Open In Colab\"/></a>"
      ]
    },
    {
      "cell_type": "code",
      "source": [
        "《如何在colab執行C/C++》\n",
        "https://www.youtube.com/watch?v=I1va3Vm24No&t=127s&ab_channel=LabVIEW%26Python%26ArduinoWorkshops\n",
        "\n",
        "\n",
        "# line魔術指令是%開頭\n",
        "# cell魔術指令是%%開頭\n",
        "%lsmagic\n",
        "\n",
        "# 不知道這個魔術指令是幹嘛用的，那就在最後加上一個問號\n",
        "# 「%%writefile 檔名」會把下面的cell內容寫入一個file中\n",
        "# 因爲是2個%，所以代表是cell的魔術方法\n",
        "%%writefile?\n",
        "\"\"\"\n",
        "Write the contents of the cell to a file.\n",
        "positional arguments:\n",
        "  filename      file to write\n",
        "\"\"\"\n",
        "\n",
        "# 通常來說，gcc是對C的.c做編譯，而g++是對C++的.cpp做編譯\n",
        "# 雖然g++也是可以對.c做編譯，但會把.c視爲C++的文件\n",
        "# 而gcc的話，則可以分別的把.c視爲C文件，.cpp視爲C++文件\n"
      ],
      "metadata": {
        "id": "GEA2ecejFT6g"
      },
      "execution_count": null,
      "outputs": []
    },
    {
      "cell_type": "code",
      "source": [
        "《command - %%writefile》\n",
        "\n",
        "%%writefile test.cpp\n",
        "#include <iostream>\n",
        "\n",
        "int main(){\n",
        "    printf(\"Hello World!\");\n",
        "}\n",
        "\n",
        "// 執行完後，可以點開colab左邊的資料夾符號「檔案」，裏面就會有一個test.cpp的檔案\n"
      ],
      "metadata": {
        "id": "Ucb8RWrcurP8"
      },
      "execution_count": null,
      "outputs": []
    },
    {
      "cell_type": "code",
      "source": [
        "《command - %%shell》\n",
        "\n",
        "# 「ctrl + enter」或是「shift + enter」都可以執行cell\n",
        "%%shell?\n",
        "# Run the cell via a shell command\n"
      ],
      "metadata": {
        "id": "IL5ge1TByp7x"
      },
      "execution_count": null,
      "outputs": []
    },
    {
      "cell_type": "code",
      "source": [
        "《command - %%bash/%%shell》\n",
        "\n",
        "# 把colab中的語句，當作shell command來執行\n",
        "# 也可以改成「%%bash」\n",
        "%%shell\n",
        "# 使用g++去對test.cpp檔案做編譯，輸出檔名爲a1\n",
        "# 其實省略「-o a1」也是可以的\n",
        "g++ test.cpp -o a1.o\n",
        "# 然後對當前目錄下的a1檔名做執行\n",
        "./a1.o\n",
        "# Hello World!\n"
      ],
      "metadata": {
        "id": "lXxr6c6syoux"
      },
      "execution_count": null,
      "outputs": []
    },
    {
      "cell_type": "code",
      "source": [
        "《command - !lsb_release》\n",
        "\n",
        "# https://www.youtube.com/watch?v=pWFbYOU3Y4s&ab_channel=An-WenDeng\n",
        "\n",
        "# 「-a」是all的意思，列出所有資訊\n",
        "!lsb_release -a\n",
        "# Description:\tUbuntu 18.04.5 LTS\n",
        "# Codename:\tbionic\n",
        "# LSB - Linux Standard Base\n"
      ],
      "metadata": {
        "id": "L3Nf1K5m2lBT"
      },
      "execution_count": null,
      "outputs": []
    },
    {
      "cell_type": "code",
      "source": [
        "《command - !g++》\n",
        "\n",
        "# -v，version\n",
        "!g++ -v\n",
        "# gcc version 7.5.0 (Ubuntu 7.5.0-3ubuntu1~18.04) \n"
      ],
      "metadata": {
        "id": "bKRYUH-V3a9m"
      },
      "execution_count": null,
      "outputs": []
    },
    {
      "cell_type": "code",
      "source": [
        "《command - !ls》\n",
        "\n",
        "# -a all\n",
        "# -l 詳細資訊\n",
        "!ls -al\n",
        "\"\"\"\n",
        "total 20\n",
        "drwxr-xr-x 1 root root 4096 Jul 19 04:18 .\n",
        "drwxr-xr-x 1 root root 4096 Jul 19 04:05 ..\n",
        "drwxr-xr-x 4 root root 4096 Jul 13 13:42 .config\n",
        "drwxr-xr-x 1 root root 4096 Jul 13 13:43 sample_data\n",
        "-rw-r--r-- 1 root root  176 Jul 19 04:18 test.cpp\n",
        "\"\"\""
      ],
      "metadata": {
        "id": "vQIbbwzFo6yD"
      },
      "execution_count": null,
      "outputs": []
    },
    {
      "cell_type": "code",
      "source": [
        "《反匯編 - disassembler》\n",
        "\n",
        "# 遇到語句感覺沒有被執行的話，可以在visual studio中點擊右鍵 -> 「轉到反匯編」(disassembler)\n",
        "# 去觀察這個語句，在反匯編中，是不是有被拆解成多步驟，如果沒有被拆解，那就代表這個語句可能有問題\n"
      ],
      "metadata": {
        "id": "shOjAgusBeTk"
      },
      "execution_count": null,
      "outputs": []
    },
    {
      "cell_type": "code",
      "execution_count": null,
      "metadata": {
        "id": "9bje_uEMBGGx"
      },
      "outputs": [],
      "source": [
        "《C++的namespace，解決了C語言不能訪問全局變量的問題》\n",
        "\n",
        "%%writefile namesp.cpp\n",
        "# include <iostream>\n",
        "\n",
        "// 一般命名空間都用using搭配std\n",
        "using namespace std;\n",
        "int a = 100; // std\n",
        "\n",
        "// 自定義一個命名空間sp1\n",
        "namespace sp1 {\n",
        "    int a = 200; // sp1\n",
        "}\n",
        "\n",
        "// C++都要有一個入口函數，可能因為是編譯型語言，不像Python是從上到下一行行的直譯\n",
        "int main()\n",
        "{\n",
        "    cout << \"std空間的a\" << endl;\n",
        "    cout << a << endl; // 100\n",
        "\n",
        "    int a = 300; // main\n",
        "    cout << \"main內的local變量\" << endl;\n",
        "    cout << a << endl; // 300\n",
        "    \n",
        "    cout << \"sp1空間的a\" << endl;\n",
        "    cout << sp1::a << endl; // 200\n",
        "    \n",
        "    return 0;\n",
        "}\n"
      ]
    },
    {
      "cell_type": "code",
      "source": [
        "《執行c++檔 - 4種方法》\n",
        "\n",
        "# 方法1\n",
        "# 直接寫%%shell在前面，因爲是2個%，所以代表這整個cell的語句，都當作shell command去運作\n",
        "%%shell\n",
        "g++ namesp.cpp -o nsp.o\n",
        "./nsp.o\n",
        "\n",
        "\n",
        "# 方法2\n",
        "# !代表這行執行的是shell command\n",
        "!g++ namesp.cpp -o nsp.o\n",
        "!./nsp.o\n",
        "\n",
        "# 方法3\n",
        "# 可以省略輸出的「-o 檔案」，只要後面一句command有加上一個執行檔名就可以了\n",
        "!g++ namesp.cpp\n",
        "!./nsp.o\n",
        "\n",
        "# 方法4\n",
        "# 加上「-字母大O數字3」，是優化\n",
        "!g++ namesp.cpp -O3\n",
        "!./nsp.o\n"
      ],
      "metadata": {
        "id": "EivM8DjS1qGR"
      },
      "execution_count": null,
      "outputs": []
    },
    {
      "cell_type": "code",
      "source": [
        "《cout、printf》\n",
        "\n",
        "https://www.796t.com/content/1542450019.html\n",
        "https://blog.51cto.com/u_12444109/3020159\n",
        "\n",
        "\n",
        "# cout和printf不能混用：\n",
        "# printf和std::cout，二者存在微弱的時序差別，在多執行緒環境下，很多問題就是由於微弱的時序差別造成的。\n",
        "# 兩者混用很容易帶來不可預知的錯誤，嚴重錯誤時甚至會導致內部緩衝區溢位，導致crash。\n",
        "\n",
        "\n",
        "# 兩者的快取機制不同：\n",
        "# printf無緩衝區。\n",
        "# 而std::cout有緩衝區，每次cout << endl，都会刷新一遍输出缓冲区，所以cout方式效率低。\n",
        "\n",
        "\n",
        "# 加鎖時機不同：\n",
        "# printf在對標準輸出作任何處理前先加鎖\n",
        "# 而std::out在實際向標準輸出列印時才加鎖，cout方式线程比較不安全。\n",
        "\n",
        "\n",
        "std::cout << \"Hello \" << \"World \";\n",
        "# 其实等同于：\n",
        "std::operator<<(std::operator<<(std::cout, \"Hello \"), \"World \");\n",
        "\n",
        "\n",
        "# cout方式输出很復雜，但使用printf要在打印前确认变量的类型也很麻煩\n",
        "# 比如输出a + b = c：\n",
        "# 使用cout\n",
        "std::cout << a << \" + \" << b << \" = \" << c << std::endl;\n",
        "# 使用printf\n",
        "printf(\"%d + %d = %d \\n\", a, b, c);\n",
        "\n",
        "\n",
        "# 使用format可以把上面的问题全都解决，C++20标准已经全面支持使用std::format\n",
        "# 如果不打算上C++20。可以考虑使用spdlog。\n",
        "# cout配合format\n",
        "std::cout << std::format(\"{} + {} = {} \\n\", a, b, c);\n"
      ],
      "metadata": {
        "id": "tknCv9ak-ydl"
      },
      "execution_count": null,
      "outputs": []
    },
    {
      "cell_type": "code",
      "source": [
        ""
      ],
      "metadata": {
        "id": "RXqjqk1NCXPG"
      },
      "execution_count": null,
      "outputs": []
    }
  ]
}