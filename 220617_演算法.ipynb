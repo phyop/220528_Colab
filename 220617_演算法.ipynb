{
  "nbformat": 4,
  "nbformat_minor": 0,
  "metadata": {
    "colab": {
      "name": "220617_algorithm.ipynb",
      "provenance": [],
      "collapsed_sections": [],
      "authorship_tag": "ABX9TyMM/U0DhHptr2cB5wIB/KOM",
      "include_colab_link": true
    },
    "kernelspec": {
      "name": "python3",
      "display_name": "Python 3"
    },
    "language_info": {
      "name": "python"
    }
  },
  "cells": [
    {
      "cell_type": "markdown",
      "metadata": {
        "id": "view-in-github",
        "colab_type": "text"
      },
      "source": [
        "<a href=\"https://colab.research.google.com/github/phyop/220528_Colab/blob/main/220617_algorithm.ipynb\" target=\"_parent\"><img src=\"https://colab.research.google.com/assets/colab-badge.svg\" alt=\"Open In Colab\"/></a>"
      ]
    },
    {
      "cell_type": "code",
      "execution_count": null,
      "metadata": {
        "id": "djPpiDnT_pzX"
      },
      "outputs": [],
      "source": [
        " 《遞回 - recursion》\n",
        "https://medium.com/ccclub/ccclub-python-for-beginners-tutorial-11ed5d300d3d\n",
        "\n",
        "\n",
        "# 這些函式所回傳的值也通通都會被存在記憶體裡直到同一層的函式都被執行完為止，因此佔用了大量的空間\n",
        "# 經常會把曾經做過的事情又拿來重新做一遍，不只浪費時間，也浪費空間，造成了程式的不效率(inefficiency)\n",
        "# 用比較電腦科學的話來講，就是遞迴這樣的方法會增加時間複雜度 (time complexity) \n",
        "# 在這個費氏數列的例子底下，使用迴圈解時，隨著我們輸入的 n 變大 m 倍，也只是迴圈多跑 m 倍的次數而已，也就是說時間的增加是線性的 (linear-time)\n",
        "# 但是在遞迴解的情況底下， m 倍的 n 所增加的時間可不只是 m 倍而已，而是指數增加 (exponential-time)\n",
        "# 於此同時，遞迴的使用也會增加空間複雜度 (space complexity)。\n",
        "# 為了避免電腦裡的計算資源通通都被 recursion 所佔滿的事情發生，Python 對於遞迴的限制次數是 3000 次。\n",
        "import sys\n",
        "sys.getrecursionlimit() # 3000\n",
        "\n",
        "\n",
        "  # n 階乘\n",
        " def factorial(n):\n",
        "    if n == 0 or n == 1:\n",
        "        return 1\n",
        "    else:\n",
        "        return n * factorial(n - 1)\n",
        "\n",
        "\n",
        "# 費氏數列：\n",
        "# f(0) = 0, f(1) = 1\n",
        "# f(n) = f(n-1) + f(n-2), n>=2\n",
        "def fibonacci(n):\n",
        "    if n == 0:\n",
        "        return 0\n",
        "    elif n == 1:\n",
        "        return 1\n",
        "    else:\n",
        "        return fibonacci(n-1) + fibonacci(n-2)\n",
        "\n",
        "\n",
        "# 最大公因數 GCD\n",
        "def gcd(m, n):\n",
        "    if n == 0:\n",
        "        return m\n",
        "    else:\n",
        "        return gcd(n, m%n)\n"
      ]
    },
    {
      "cell_type": "code",
      "source": [
        ""
      ],
      "metadata": {
        "id": "9NreXTt8_5TD"
      },
      "execution_count": null,
      "outputs": []
    }
  ]
}
