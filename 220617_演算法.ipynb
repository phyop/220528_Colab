{
  "nbformat": 4,
  "nbformat_minor": 0,
  "metadata": {
    "colab": {
      "provenance": [],
      "collapsed_sections": [
        "tkt2lS5A2Mlq",
        "OgnNjBpkoWwV"
      ],
      "include_colab_link": true
    },
    "kernelspec": {
      "name": "python3",
      "display_name": "Python 3"
    },
    "language_info": {
      "name": "python"
    }
  },
  "cells": [
    {
      "cell_type": "markdown",
      "metadata": {
        "id": "view-in-github",
        "colab_type": "text"
      },
      "source": [
        "<a href=\"https://colab.research.google.com/github/phyop/220528_Colab/blob/main/220617_%E6%BC%94%E7%AE%97%E6%B3%95.ipynb\" target=\"_parent\"><img src=\"https://colab.research.google.com/assets/colab-badge.svg\" alt=\"Open In Colab\"/></a>"
      ]
    },
    {
      "cell_type": "markdown",
      "source": [
        "# 221103_notes_王者歸來_演算法.py"
      ],
      "metadata": {
        "id": "ug9ERbDw2HJw"
      }
    },
    {
      "cell_type": "markdown",
      "source": [
        "## 串列linked list "
      ],
      "metadata": {
        "id": "tkt2lS5A2Mlq"
      }
    },
    {
      "cell_type": "code",
      "source": [
        "[空間復雜度]\n",
        "\n",
        "\n",
        "找有沒有重覆的數字\n",
        "# 第1個數字，就只是放進去hash table的key而已\n",
        "# 要比較第2個數字有沒有和前面重覆的時候，只是把第2個元素放進去hash table的key，然後value +1而已，如果value大於等於2就找到\n",
        "# 要比較第n個數字有沒有和前面重覆的時候，只是把第n個元素放進去hash table的key，然後value +1而已，如果value大於等於2就找到\n",
        "# 所以總共做了n次放進去hash table的動作，也就是O(n)\n",
        "\n",
        "\n",
        "AB變數值交換\n",
        "# 就算有n個變數要做交換，也還是只需要一個tmp的暫存空間，就可以完成所有變數的交換\n",
        "# 也就是說，需要的記憶體空間，和要做交換的變數量無關，所以空間復雜度O(1)\n"
      ],
      "metadata": {
        "id": "AE3KzdGl2gSp"
      },
      "execution_count": null,
      "outputs": []
    },
    {
      "cell_type": "code",
      "source": [
        "[時間復雜度]\n",
        "\n",
        "O(1)\n",
        "# 處理時間和資料量無關\n",
        "# 不管要處理的數量有多龐大，反正和處理的時間無關，所以相對是一個定值而已。\n",
        "\n",
        "\n",
        "O(log n)\n",
        "# 第1秒就瞬間處理完一半的元素，50%\n",
        "# 第2秒再處理剩下的一半，也就是75%\n",
        "# 第3秒就87.5%\n",
        "# 第4秒就已經處理完94%的元素\n",
        "# 所以就算元素數量龐大，也可以在短暫時間內處理完大部分的元素\n",
        "\n",
        "\n",
        "O(n)\n",
        "# 不管增加多少個元素，平均每個元素，需要耗處理的時間都沒有改變，那時間複雜度就是n\n",
        "# 比如移動陣列中的元素，移3個元素，和移10個元素，兩者的個別元素移動時間是一樣的\n",
        "# 所以移動的元素變2倍，那時間就是2倍（考慮n的次方而已，所以實際是不是2倍不是重點）\n",
        "\n",
        "\n",
        "O(n**2)\n",
        "# 後面多增加1個元素，那個元素需要處理的時間，會是前面元素的以倍數計算，那就是n**2的時間複雜度。\n",
        "# 也就是多增加1個元素，爲了處理那1個多增加的，負擔會比前面的元素以倍數計\n"
      ],
      "metadata": {
        "id": "lk2X9Cbu2kGq"
      },
      "execution_count": null,
      "outputs": []
    },
    {
      "cell_type": "code",
      "source": [
        "[array vs linked list]\n",
        "\n",
        "增刪查改 CRUD\n",
        "# create\n",
        "# read\n",
        "# update\n",
        "# delete\n",
        "\n",
        "\n",
        "陣列，索引O(1)，查找O(log n)，增刪O(n)，\n",
        "# 陣列的優點是，讀取是用索引位置，因爲直接定位記憶體位置，所以O(1)。\n",
        "# 陣列的缺點是，增刪是O(n)，因爲如果資料位置剛好是頭尾，可能會要移動到整個陣列\n",
        "# 至於查找的話，一個個位置比對，那就是O(n)；用二分法則可以下降到O(log n)\n",
        "# pop如果省略參數，是傳回第1個元素，並從陣列刪除第1個元素。\n",
        "# 而對陣列來說，第一個值就是起始位置，所以pop出的就會是起始點元素\n",
        "\n",
        "\n",
        "linked list，沒有索引方式，查找O(n)，增刪改O(1)\n",
        "# 不管linked list長度有多長，只需要指定到要插入的前一個元素位置，然後修改該位置的指向節點。\n",
        "# 並把插入元素的指向節點，和原串列做連接起來，就完成了。\n",
        "# 因為刪除元素的動作也是同理，因為刪除、插入都只有定位元素、修改節點，這兩個動作而已。\n",
        "# 和元素長度n值無關，所以都是O(1)\n",
        "# linked list 適合做增刪改O(1)，但不適合查找O(n)\n",
        "# 因爲要一個個往下一個linked的元素去查找\n",
        "# 陣列適合做讀取O(1)，不適合增刪改O(n)\n"
      ],
      "metadata": {
        "id": "kAEKCDcr2oCw"
      },
      "execution_count": null,
      "outputs": []
    },
    {
      "cell_type": "code",
      "source": [
        "[class Node]\n",
        "\n",
        "\n",
        "Node屬性，data和next\n",
        "# linked list中的每一個元素都是一個節點\n",
        "# 並且在最簡單的單向節點形式中，每一個元素至少包含2個屬性，data和next\n",
        "# 因為linked list中，每個元素，都會有這樣特殊的屬性\n",
        "# 所以可以利用class當做模板，來一個個創建具有這樣特性的元素\n",
        "\n",
        "\n",
        "屬性 - 顯式初始化\n",
        "# 如果linked list 中的元素是有固定邏輯的話，可以直接在class裡面做初始化給值\n",
        "# 如果沒有，就只好在__init__內的data、next都先指向null\n",
        "# 然後在class外部，要創建linked list元素的時候，再去給物件的屬性值\n",
        "# 雖然class內data、next不做顯式宣告指向None也是可以，但爲了釐清自己的想法，最好還是寫顯式\n",
        "\n",
        "\n",
        "默認參數\n",
        "# 上面在創建Node的時候，屬性值會在class內部初始化爲None\n",
        "# 所以每個創建出來的Node，都會有預設的data、next指向null\n",
        "# 所以user必須先創建Node，然後再去對Node物件做屬性修改\n",
        "# 如果我們希望創建Node的時候，可以直接就給屬性值，那就必須讓__init__增加形參\n",
        "# 但這樣的缺點是，user在創建Node的時候，就一定要手動指定屬性值才有辦法創建\n",
        "# 問題是，user的需求可能是，他想要先創建一個Node，去接收來自其他地方送來的屬性值\n",
        "# 解決辦法是，使用默認參數，來讓user決定要不要自己做屬性的初始化\n",
        "# 所以在__init__形參，設置默認參數data = None，就會符合user的需求\n",
        "# 所謂給屬性值，也就是讓data等於（i.e. 指向）什麼，讓next等於（i.e. 指向）哪個元素\n"
      ],
      "metadata": {
        "id": "2wwn86DC2tFG"
      },
      "execution_count": null,
      "outputs": []
    },
    {
      "cell_type": "code",
      "source": [
        "[class linked_list]\n",
        "\n",
        "\n",
        "遍歷 - for i 先指向起始位置\n",
        "# 創建完所有linked list元素之後，可以做遍歷印出元素值，來檢查看看做的對不對\n",
        "# 要做遍歷的話，其實參考for i in xxx去做變形\n",
        "# 因為其實i就是當做指標在移動，所以第一步就是，先創個變數i\n",
        "# 讓變數i去指向資料(array, list, dict, ...)的起始位置\n",
        "# 我們用ptr的變數名取代i\n",
        "# 起始位置是node1，所以ptr一開始會指向第一個元素node1，也就是ptr = node1\n",
        "\n",
        "\n",
        "遍歷 - for i 做迭代\n",
        "# next屬性的目的，本來就是要把指標移動到下一個元素，相當於是i = i+1的迭代變形\n",
        "# 所以ptr應該從當前的node1，移動到node2，也就是node1.next\n",
        "# 修改成通用型，就是當前指標指向位置的next，也就是在當前這次迭代結束前，要寫ptr = ptr.next，去移動指標指向下一個元素\n",
        "\n",
        "\n",
        "用while break比用for in len()好\n",
        "# 遍歷可以用for或while。for的話要知道長度，while的話要知道break條件\n",
        "# 如果使用for，要多耗費時間去查找linked list的長度\n",
        "# 如果使用while，則是只要思考break條件，也就是到達最後一個元素位置的時候，會和前面元素有什麼不一樣的地方\n",
        "# 在單向linked list的資料結構中，最後一個元素不一樣的地方就是nodeN.next = None\n",
        "# 所以想到也許可以寫成 while (ptr.next != None):\n",
        "# 但實際跑起來會發現漏掉最後一個元素，因爲判斷條件不應該是判斷下一個元素不存在\n",
        "# 而是要判斷當前ptr不是指向None，所以改成while ptr\n",
        "\n",
        "\n",
        "main\n",
        "# 一個沒有main的小程式，在class、def 以外的地方，其實就相當於是main\n",
        "# 而main裡面寫一長串，可讀性會變很差，所以不必要放在main的東西，就盡量包到def或class裡面\n",
        "# 所以要思考的是，有什麼是不需要包起來的？\n",
        "# main當中，會有對user的資料接收(以user輸入的資料去建立起資料結構)，以及def的呼叫使用（比如print）\n",
        "# node(data, next)的創建，就屬於對user的資料接收(user給元素data值、建立串列)，所以可以留在main\n",
        "# 不過當輸入的資料一多，main就會顯得冗長，所以可以建立一個容器（list, array, csv, ...），一次接收所有user的輸入\n",
        "# 然後使用class或def一次創建，這樣main會顯得更簡潔，可讀性更高\n",
        "# 而while ptr {print ...}並不是去做資料接收，只是print，所以沒有留在main的必要，應該改成def才對\n",
        "\n",
        "\n",
        "把def提升成class\n",
        "# 在print中，因為和ptr的判斷條件有關係，所以ptr應該是這個print函數的一個形參。\n",
        "# 而如果要把def提高成為class，那def要用到的實參，可以從（母體）class的屬性值取得\n",
        "# 就像def的實參可以從（母體）全局變量取得\n",
        "# 所以建立一個class，把while ptr {}放進去當做一個def，然後在__init__裡面設置ptr的屬性\n",
        "# 因為這個class做print出來會是一串linked list的資料結構，所以我們就命名為class Linked_list()\n",
        "# 而每個資料結構要被取得值，最重要的就是要給記憶體的起始位置\n",
        "# 所以創建這個linked_list的物件，要在__init__設置一個屬性self.head，代表資料結構的記憶體起始位置\n",
        "# 然後def中需要的形參ptr初始值，就可以去class的屬性找到，也就是self.head\n"
      ],
      "metadata": {
        "id": "4Rov6XBC2wVG"
      },
      "execution_count": null,
      "outputs": []
    },
    {
      "cell_type": "code",
      "source": [
        "[串列插入新節點 - 頭元素]\n",
        "\n",
        "\n",
        "處理資料的更新，順序非常重要\n",
        "# 當要插入新節點到linked _list串列起頭的時候，如果是先讓self.head，指向到新節點\n",
        "# 那接著要做新節點指向到舊的起頭時，就會發現，原來指向舊的起頭那個指標，已經改指向到新節點自己\n",
        "# 所以舊的起頭現在沒人指向，也就是遺失了\n",
        "\n",
        "\n",
        "循環、雙向串列，元素比較不容易遺失\n",
        "# 除非這是個circle linked list，起頭的節點可能被設置了2個指標指向它\n",
        "# 一個是self.head，另一個是串列的最後一個元素也會指向起頭\n",
        "# 如果是個非circle的雙向linked list那排除掉前後的元素，中間的元素都有左右2邊的元素指向自己\n",
        "# circle、double linked list這2種情況，比較不容易有指標遺失的問題\n",
        "# 但也會因為指向的複雜度提高，所以code在處理增刪改的時候，會花費比較多工夫\n"
      ],
      "metadata": {
        "id": "vgXGaQk_24b2",
        "colab": {
          "base_uri": "https://localhost:8080/",
          "height": 140
        },
        "outputId": "edccf8cd-fbd0-4177-ce56-7128668033af"
      },
      "execution_count": null,
      "outputs": [
        {
          "output_type": "error",
          "ename": "SyntaxError",
          "evalue": "ignored",
          "traceback": [
            "\u001b[0;36m  File \u001b[0;32m\"<ipython-input-2-12711e82035f>\"\u001b[0;36m, line \u001b[0;32m4\u001b[0m\n\u001b[0;31m    處理資料的更新，順序非常重要\u001b[0m\n\u001b[0m                 ^\u001b[0m\n\u001b[0;31mSyntaxError\u001b[0m\u001b[0;31m:\u001b[0m invalid character in identifier\n"
          ]
        }
      ]
    },
    {
      "cell_type": "code",
      "source": [
        "[串列插入新節點 - 尾元素]\n",
        "\n",
        "\n",
        "要讀取資料結構，先做指標\n",
        "# 要插入linked list的尾部，一樣需要先做出一個指標ptr，來做爲移動指向使用\n",
        "# 要使用資料結構，通常ptr都要先指向資料結構的記憶體起始位置，ptr = self.head\n",
        "# 因為要插入到尾部，所以一般的思考邏輯就是，既然是串列，那我就是移動指標，ptr = ptr.next\n",
        "# 一個個的找到最後一個，指向None的元素，while ptr.next ！= None\n",
        "\n",
        "\n",
        "「if xxx ！= None」或「if xxx == True」 =》 「if xxx」\n",
        "# 在條件判斷上，「！= None」近似於不爲不爲0，或不爲False\n",
        "# 「不」爲「False」，雙重否定等價爲True，也就是while ptr.next == True\n",
        "# 而「== True」是多此一舉的判斷式，所以直接 while ptr.next 就好了\n",
        "# 也就是說，如果判斷式是「if xxx ！= None」，或是「if xxx == True」\n",
        "# 都直接寫「if xxx」就好了，後面可以忽略不寫\n",
        "\n",
        "\n",
        "單元測試\n",
        "# 找到最尾端元素ptr之後，讓尾端元素的next，指向到新建的node，ptr.next  = Node(data)\n",
        "# 思考一下單元測試場景，也就是對function做一下特殊情況下的測試，比如空串列\n",
        "# 對空串列來說，self.head指向的是None\n",
        "# 進入while ptr.next的時候，因爲ptr一開始會先從指向self.head開始\n",
        "# 所以變成，while self.head.next，等同於 while None.next\n",
        "# 然後就應該會報錯說，None沒有next的屬性\n",
        "# 把特殊情況的處理寫在前面\n",
        "# 如果是空串列，if self.head == None，那就直接插入新元素當做起頭，self.head = Node(data)\n",
        "# 而新元素要沒有需要接的下一個元素，所以本來應該會有一句 Node(data).next = None\n",
        "# 但因爲在class Node裏面的初始化是，self.next = None\n",
        "# 所以新創建的 Node(data)，其實已經指向了None，所以不需要多寫 Node(data).next = None 這句\n"
      ],
      "metadata": {
        "id": "eL3dRCrY28LU"
      },
      "execution_count": null,
      "outputs": []
    },
    {
      "cell_type": "code",
      "source": [
        "[class的必要屬性]\n",
        "\n",
        "\n",
        "資料結構的起頭，是class的必要屬性\n",
        "# class linked_list，串列的各種操作方法\n",
        "# class Node，建立節點元素物件\n",
        "# 要對資料結構做操作，最重要的就是找到資料結構的起頭，所以self.head是class linked_list的必要屬性\n"
      ],
      "metadata": {
        "id": "9NreXTt8_5TD"
      },
      "execution_count": null,
      "outputs": []
    },
    {
      "cell_type": "code",
      "source": [
        "[3-13 插入新元素]\n",
        "\n",
        "\n",
        "最好搭配畫圖理解\n",
        "# 當要在串列中插入新元素Node(data)\n",
        "# 要先鏈接後面的元素Node(B)，再去鏈接前面的元素Node(A)\n",
        "# 因為如果先鏈接前面A的話，也就是讓A改指向data，這時候原本指向B的唯一鏈接指標就沒了\n",
        "# 所以在做串列或流程化時，最好搭配畫圖理解\n",
        "\n",
        "\n",
        "AB相依性\n",
        "# 考慮插入元素需要參數：A、B、data\n",
        "# 因為AB之間有相依性，所以可以2者取一個就好\n",
        "\n",
        "\n",
        "取代A：先假設，用後面的Node(B)來取代Node(A)\n",
        "# Node(data)鏈接後面的元素Node(B)\n",
        "# Node(data).next = Node(B)\n",
        "# 再去鏈接前面的元素Node(A)\n",
        "# Node(A).next = Node(data)\n",
        "# 這時候就不知道要怎麼用Node(B)去表示Node(A)了\n",
        "# 所以雖然理論上AB之間有相依性，可以2者取一個就好\n",
        "# 但因為單向串列，都是用前一個元素去表示後面的元素\n",
        "# 所以有了這個constraint之後，就變成了AB之間的雖有相依性，但只能使用前元素來表示後元素，而不能用後元素來表示前元素\n",
        "\n",
        "\n",
        "取代B：所以改假設，用前面的Node(A)來取代Node(B)\n",
        "# 也就是當要使用Node(B)的時候，都用Node(A)來取代\n",
        "# Node(data)鏈接後面的元素Node(B)\n",
        "# Node(data).next = Node(A).next\n",
        "# 再去鏈接前面的元素Node(A)\n",
        "# Node(A).next = Node(data)\n",
        "\n",
        "\n",
        "單元測試\n",
        "# 接著考慮單元測試的條件，看到等號，就會想到等號的兩邊，會不會有找不到的時候？\n",
        "# Node(A)的next如果找不到，至少會指向None吧，所以應該ok\n",
        "# 但Node(A)如果找不到，那就出錯了\n",
        "# 也就是要在插入元素前，先做條件測試，判斷Node(A)是否存在，if Node(A)\n",
        "# 或是更白話一點，if Node(A) == None\n",
        "# 物理上來說，如果新元素的前面不存在元素，那就代表新元素是第一個元素\n",
        "# 所以可以試著把這個插入中間元素的方法，和插入頭元素的方法合併看看\n",
        "# 如果硬是要，插入中間節點，就自己創一個方法，那就是做檢查，if Node(A)，如果不滿足，那就print提示的錯誤訊息\n",
        "# 如果呼叫插入中間節點的方法不成功，也不想影響後續的程式運行，那除了print提示的錯誤訊息之外，再多做個return，來結束掉這個方法的呼叫。\n"
      ],
      "metadata": {
        "id": "fyr11UTV2_-I"
      },
      "execution_count": null,
      "outputs": []
    },
    {
      "cell_type": "code",
      "source": [
        "[3-14 刪除元素]\n",
        "\n",
        "\n",
        "有序建立串列的話，可以用class linked_list的方法操作\n",
        "# 前面都是先用class Node一個個建立節點，再一個個做串列\n",
        "# 其實也可以用class linked_list中，插入元素的方法，一個個插入data\n",
        "# 比如ABC這樣的串列，用插入頭元素的方法做beginning (self, data)，那就是先插入C，再B，再A\n",
        "# 但因為這樣反向插入很違反直覺，所以改用插入尾元素的方法ending (self, data)\n",
        "\n",
        "\n",
        "物件方法\n",
        "# 一般沒有特殊考慮的話，通常都是首參數self的物件方法\n",
        "# 要訪問物件屬性的就用物件方法，訪問類屬性的是類方法\n",
        "# 2者屬性都不訪問，但要封裝在類中的方法，就是靜態方法\n",
        "# 如果既要訪問實例屬性，又要訪問類屬性，那就用實例（物件）方法\n",
        "# 因爲在實例方法的內部中，可以使用「類名.類屬性」去訪問到類屬性\n",
        "# 而如果在類的內部中，想要去訪問到物件屬性，就必須使用到self，那就還是會變成是實例方法了\n"
      ],
      "metadata": {
        "id": "rBE8V6FSGXAt"
      },
      "execution_count": null,
      "outputs": []
    },
    {
      "cell_type": "code",
      "source": [
        "［3-14 刪除節點］\n",
        "\n",
        "\n",
        "# 當找到要刪除的節點後，ptr.data = rmdata\n",
        "# 要讓ptr的前一個節點，去連接ptr.next\n",
        "# 所以我們必須要保留，前一個節點的位置\n",
        "# 因為是單向連接，所以必須額外設置一個變數pre_ptr，來存放前一個節點的記憶體位置\n",
        "\n",
        "\n",
        "單元測試要考慮\n",
        "# 大部分情況，比如：中間元素\n",
        "# 邊際條件，比如：頭元素、尾元素\n",
        "# 找不到或不存在，比如：空串列(元素不存在於串列)、輸入元素有問題(輸入類型不符合)\n",
        "\n",
        "\n",
        "建立串列的移動指標\n",
        "# 要做測試前，要先建立一個可移動的指標ptr\n",
        "# 然後指向到要操作的資料結構\n",
        "# 因為是在class linked_list內，對linked_list類的物件進行操作，所以操作的物件是self\n",
        "# 建立可移動的指標ptr，指向資料的記憶體起始位置，就是ptr = self.head\n",
        "\n",
        "\n",
        "邊際條件，空串列\n",
        "# 但如果是空串列，那self.head就是None\n",
        "# 所以判斷ptr如果是None，就可以直接return說元素不存在\n",
        "# 所以直覺會把 if ptr == None: return 寫在方法的開頭\n",
        "# 但元素不存在，不一定是空串列啊，也有可能是指定的元素，根本就不在串列裡面\n",
        "# 這種找不到的情況，反而應該寫在方法的最後\n",
        "# 所以要寫在前，還是寫在後，就保留著，先往下繼續思考\n",
        "\n",
        "\n",
        "邊際條件，空串列、頭元素\n",
        "# 假設在頭元素就找到的話，if ptr.data == rmdata\n",
        "# 那就把頭元素的下一個元素，指定為新的頭元素，self.head = ptr.next，然後 return 結束這個方法\n",
        "\n",
        "\n",
        "大部分情況，中間元素\n",
        "# 如果要刪除的元素在中間，因為linked list 的資料結構，必須一個個往後移動搜尋\n",
        "# 所以要做for或while的迴圈，如果沒找到，就把ptr指標往後移動，ptr = ptr.next\n",
        "# 但如果找到那就要把ptr的前一個元素，和ptr.next做連接，preptr.next = ptr.next\n",
        "# 所以我們必須創建一個變數preptr，去保存ptr的前一個位置\n",
        "# 接著要思考的是，那要怎麼更新preptr？\n",
        "# 因為preptr就是落後ptr一次移動，所以只要在做ptr = ptr.next之前，先讓preptr去指向當前的ptr位置就好了，preptr = ptr\n",
        "\n",
        "\n",
        "然後把目前既有的幾個程式碼區塊，在紙上畫個流程圖，編排一下\n",
        "\n"
      ],
      "metadata": {
        "id": "4MOv9Q-bns1s"
      },
      "execution_count": null,
      "outputs": []
    },
    {
      "cell_type": "code",
      "source": [
        "［3-18 邊界條件頭元素］\n",
        "# 方法都需要考慮邊界條件，而在增加節點資料時，邊界情況是「內容為空」，所以才會有先對頭元素做處理的一塊程式碼\n",
        "\n",
        "\n",
        "［3-17 檢查輸入實參］\n",
        "# 檢查輸入，看是否符合這個方法的使用規範，讓程式更加robust\n",
        "# 比如這邊的方法，目的是要加入雙向串列的節點，所以可以對進來的實參n1、n2、n3，檢查是不是class Node的實例物件，isinstance (n1, Node)\n",
        "\n",
        "\n",
        "［3-16 利用方法去改變物件屬性］\n",
        "# self.head和self.tail，都是在__init__宣告的物件屬性\n",
        "# 所以加入元素的方法，會去改變物件的屬性\n",
        "# 讓物件從初始化的指向None，改指向到新的頭元素和尾元素\n",
        "\n",
        "\n",
        "［3-17 函數開頭做robust，結尾做更新］\n",
        "# 如果只是在原串列的尾部加入新元素，那就讓原尾元素和新元素，做雙向連接\n",
        "# 然後在做完所有事之後，要做的就是「更新」，比如count\n",
        "# 在這邊要做的更新則是，物件屬性（尾元素），self.tail = Node(data)\n",
        "\n"
      ],
      "metadata": {
        "id": "ShDrEoBTGipz"
      },
      "execution_count": null,
      "outputs": []
    },
    {
      "cell_type": "markdown",
      "source": [
        "## 二元樹"
      ],
      "metadata": {
        "id": "ebpJo0ipoNP0"
      }
    },
    {
      "cell_type": "code",
      "source": [
        "# ［6-14 建立二元樹 - array list]\n",
        "\n",
        "import math\n",
        "\n",
        "def create_btree(data):\n",
        "    # 完全二元樹需要的元素個數\n",
        "    level_max = 2**math.ceil(math.log(len(data) , 2))\n",
        "    # 建立列表，並初始化為0，來儲存完全二元樹\n",
        "    btree = [0] * (level_max - 1)\n",
        "   \n",
        "    # 第一個進入二元樹的，從一開始就沒有比較對象，所以可以直接停留做填入\n",
        "    btree[0] = data[0]\n",
        "    for i in range (1, len(data)):\n",
        "        # 在for裡面，要把當前元素，不斷往下層比較\n",
        "        # 「不斷」，所以會用到while\n",
        "        # 「往下層」，所以離開當前迭代前，必須更新node值\n",
        "        # 每次進入btree，都一定是先從最頂層開始做比較\n",
        "        # 「每次進入」，所以每次迭代，都要做初始化\n",
        "        node = 0\n",
        "        # 在btree中，當沒得比較的時候，就代表找到要做停留填入的位置了\n",
        "        while btree[node]:\n",
        "            # 節點更新成，下次要做比較的位置\n",
        "            if data[i] > btree[node]:\n",
        "                node = (node * 2) + 2\n",
        "            else:\n",
        "                node = (node * 2) + 1\n",
        "        # 當離開while，就把元素填入節點\n",
        "        # 「A填入B」，B會做改變，所以B在等號左邊\n",
        "        btree[node] = data[i]\n",
        "        # print(\"i\", i)\n",
        "        # print(\"node\", node)\n",
        "        # print(\"data[i]\", data[i])\n",
        "        # print(\"btree\", btree)\n",
        "        # print(\"end while\", i)\n",
        "    return btree\n",
        "            \n",
        "\n",
        "data = [10, 21, 5, 9,13, 28]\n",
        "btree = create_btree(data)\n",
        "for datum in btree:\n",
        "    print(datum, end = \",\")\n",
        "    \n",
        "\"\"\"\n",
        "i 1\n",
        "level 2\n",
        "data[i] 21\n",
        "btree [10, 0, 21, 0, 0, 0, 0]\n",
        "i 1\n",
        "level 5\n",
        "data[i] 21\n",
        "btree [10, 0, 21, 0, 0, 21, 0]\n",
        "\n",
        "\"\"\""
      ],
      "metadata": {
        "id": "fCSFgq9ToHgj"
      },
      "execution_count": null,
      "outputs": []
    },
    {
      "cell_type": "code",
      "source": [
        "# [6-16 建立二元樹 - linked list]\n",
        "\n",
        "class Node:\n",
        "    def __init__(self, data=None):\n",
        "        # 節點至少要有data和一個連結\n",
        "        self.data = data  # 節點的值\n",
        "        self.left = None  # 左子樹的節點\n",
        "        self.right = None\n",
        "\n",
        "    def insert(self, data):\n",
        "        # 如果樹的資料很大，每次又都要先判斷if，發現不符合才又進到else，那就會很沒效率\n",
        "        # 所以把大部分的循環比較，都是根節點存在的情況，寫在會進入if的條件中，這樣會比較有效率\n",
        "        if self.data:\n",
        "            # A：如果根節點存在，「就開始拿data和根節點self.data做比較」\n",
        "            # 如果data比當前節點self.data小(data < self.data)，就判斷左子樹存不存在(if self.left:)\n",
        "            # 如果左子樹不存在，就拿data建立左節點 =》self.left = Node(data)\n",
        "            # B：如果左子樹存在，「就拿data去和左節點self.left.data做比較」\n",
        "            # B和前面的步驟A一樣了，所以是進入到遞迴關系\n",
        "            # 前面的A是根節點self，後面的B是左子樹節點self.left\n",
        "            # 前面A呼叫的是insert(self, data)，所以後面B應該是insert(self.left, data)\n",
        "            # 一般呼叫函數時，會藉由函數前面去做呼叫的物件，來得知首參數self指的是什麼\n",
        "            # 所以insert(self.left, data)改寫爲self.left.insert(data)\n",
        "            if data < self.data:\n",
        "                if self.left:\n",
        "                    # 這邊的insert()，可以省略self那個參數\n",
        "                    # 不需要寫成self.left.insert(self.left, data)\n",
        "                    # 因爲insert的前面，已經說明了是哪個物件去呼叫這個insert()物件方法\n",
        "                    self.left.insert(data)\n",
        "                else:\n",
        "                    self.left = Node(data)\n",
        "            else:\n",
        "                if self.right:\n",
        "                    self.right.insert(data)\n",
        "                else:\n",
        "                    self.right = Node(data)\n",
        "        else:  # 如果根節點不存在，就建立根節點\n",
        "            self.data = data\n",
        "\n",
        "    def print_tree(self): # 中序列印二元樹\n",
        "        \n",
        "\n",
        "\n",
        "ls = [10, 21, 5, 9, 13, 28]\n",
        "tree = Node()\n",
        "for i in ls:\n",
        "    tree.insert(i)\n",
        "tree.print_tree()\n",
        "            "
      ],
      "metadata": {
        "id": "BO7Lcc8z5DSW"
      },
      "execution_count": null,
      "outputs": []
    },
    {
      "cell_type": "markdown",
      "source": [
        "# 220617_有的沒的"
      ],
      "metadata": {
        "id": "OgnNjBpkoWwV"
      }
    },
    {
      "cell_type": "code",
      "execution_count": null,
      "metadata": {
        "id": "djPpiDnT_pzX",
        "colab": {
          "base_uri": "https://localhost:8080/"
        },
        "outputId": "b3f7543f-2ae2-4dfc-d2a6-6ccdc31d95fa"
      },
      "outputs": [
        {
          "output_type": "error",
          "ename": "SyntaxError",
          "evalue": "ignored",
          "traceback": [
            "\u001b[0;36m  File \u001b[0;32m\"<ipython-input-3-ab05bb5758ad>\"\u001b[0;36m, line \u001b[0;32m1\u001b[0m\n\u001b[0;31m    《遞回 - recursion》\u001b[0m\n\u001b[0m      ^\u001b[0m\n\u001b[0;31mSyntaxError\u001b[0m\u001b[0;31m:\u001b[0m invalid character in identifier\n"
          ]
        }
      ],
      "source": [
        " 《遞回 - recursion》\n",
        "https://medium.com/ccclub/ccclub-python-for-beginners-tutorial-11ed5d300d3d\n",
        "\n",
        "\n",
        "# 這些函式所回傳的值也通通都會被存在記憶體裡直到同一層的函式都被執行完為止，因此佔用了大量的空間\n",
        "# 經常會把曾經做過的事情又拿來重新做一遍，不只浪費時間，也浪費空間，造成了程式的不效率(inefficiency)\n",
        "# 用比較電腦科學的話來講，就是遞迴這樣的方法會增加時間複雜度 (time complexity) \n",
        "# 在這個費氏數列的例子底下，使用迴圈解時，隨著我們輸入的 n 變大 m 倍，也只是迴圈多跑 m 倍的次數而已，也就是說時間的增加是線性的 (linear-time)\n",
        "# 但是在遞迴解的情況底下， m 倍的 n 所增加的時間可不只是 m 倍而已，而是指數增加 (exponential-time)\n",
        "# 於此同時，遞迴的使用也會增加空間複雜度 (space complexity)。\n",
        "# 為了避免電腦裡的計算資源通通都被 recursion 所佔滿的事情發生，Python 對於遞迴的限制次數是 3000 次。\n",
        "import sys\n",
        "sys.getrecursionlimit() # 3000\n",
        "\n",
        "\n",
        "  # n 階乘\n",
        " def factorial(n):\n",
        "    if n == 0 or n == 1:\n",
        "        return 1\n",
        "    else:\n",
        "        return n * factorial(n - 1)\n",
        "\n",
        "\n",
        "# 費氏數列：\n",
        "# f(0) = 0, f(1) = 1\n",
        "# f(n) = f(n-1) + f(n-2), n>=2\n",
        "def fibonacci(n):\n",
        "    if n == 0:\n",
        "        return 0\n",
        "    elif n == 1:\n",
        "        return 1\n",
        "    else:\n",
        "        return fibonacci(n-1) + fibonacci(n-2)\n",
        "\n",
        "\n",
        "# 最大公因數 GCD\n",
        "def gcd(m, n):\n",
        "    if n == 0:\n",
        "        return m\n",
        "    else:\n",
        "        return gcd(n, m%n)\n"
      ]
    }
  ]
}