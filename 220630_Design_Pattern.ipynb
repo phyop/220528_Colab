{
  "nbformat": 4,
  "nbformat_minor": 0,
  "metadata": {
    "colab": {
      "name": "220630_Design Pattern.ipynb",
      "provenance": [],
      "collapsed_sections": [],
      "authorship_tag": "ABX9TyNHxjJWldfDLsbhvfz82dro",
      "include_colab_link": true
    },
    "kernelspec": {
      "name": "python3",
      "display_name": "Python 3"
    },
    "language_info": {
      "name": "python"
    }
  },
  "cells": [
    {
      "cell_type": "markdown",
      "metadata": {
        "id": "view-in-github",
        "colab_type": "text"
      },
      "source": [
        "<a href=\"https://colab.research.google.com/github/phyop/220528_Colab/blob/main/220630_Design_Pattern.ipynb\" target=\"_parent\"><img src=\"https://colab.research.google.com/assets/colab-badge.svg\" alt=\"Open In Colab\"/></a>"
      ]
    },
    {
      "cell_type": "code",
      "source": [
        "《設計模式》\n",
        "\n",
        "# 不同的問題，用不同的解決套路\n"
      ],
      "metadata": {
        "id": "zfNSXktoVDmD"
      },
      "execution_count": null,
      "outputs": []
    },
    {
      "cell_type": "code",
      "execution_count": null,
      "metadata": {
        "id": "mchHn--YShwx"
      },
      "outputs": [],
      "source": [
        "《單例 - 音樂同時間只有一首播放》\n",
        "\n",
        "# 「設計模式-單例」，讓類建立的物件，在系統中只有一個實例，比如：音樂播放同時間只有一首，資源回收桶一個操作系統只有一個，印表機同一時間只印一個資料來源\n",
        "# 設計模式，針對某一特定問題，前人成熟的解決模式\n",
        "# 「類名()」在系統中，也是單例，也就是不管執行幾次，返回的記憶體地址都是同一個\n",
        "# 也就是說，記憶體中的類就只有一份，但可以做出多個物件\n",
        "\n",
        "\n",
        "class Single_ins(object):\n",
        "    \"\"\"讓這個類在系統中只能創建一次單例\"\"\"\n",
        "    # 用來記錄實例是不是已經被創建過了\n",
        "    instance = None\n",
        "    # 用來記錄是不是執行過初始化的動作了\n",
        "    init_flag = False\n",
        "\n",
        "    # 類方法的cls，是首要參數，用於指定當前類\n",
        "    # __new__是靜態方法，所以cls是一般參數，通常也是指定當前類沒錯\n",
        "    # 但有繼承關系的時候，卻不一定是指定當前類\n",
        "    def __new__(cls, *args, **kwargs):\n",
        "        # 先看看目前有沒有實例，有的話就直接返回，沒的話才進去if做創建\n",
        "        # None是一個特別物件，而「物件用is」\n",
        "        if instance is None:\n",
        "            # super是一個特殊類，所以要建立物件，才能去調用物件方法\n",
        "            # 不能直接「return super().__new__(cls)」\n",
        "            # 因爲這樣就不會去改變instance的記錄值\n",
        "            # 使用當前類作爲參數，去呼叫MRO中排序第一的父類__new__方法\n",
        "            # 然後讓當前類屬性instance去指向，返回的記憶體地址\n",
        "            # 所以此時類屬性instance，就不再會是None了\n",
        "            cls.instance = super().__new__(cls)         \n",
        "        return cls.instance\n",
        "\n",
        "    # 每次創建物件時，除了__new__以外，還會調用__init__\n",
        "    # 雖然每次創建物件時，已經讓__new__不再創建新的物件（只回傳同一個地址）\n",
        "    # 但每次__new__去調用__init__時，這個物件都會不斷的被重新初始化\n",
        "    # 如果是不想讓物件不斷的被重新初始化，那就要執行下面的動作    \n",
        "    def __init__(self):\n",
        "       if Single_ins.init_flag:\n",
        "        # 如果已經執行過初始化了，那就不需要執行下方的code\n",
        "        # 使用return，就可以直接結束這個方法\n",
        "        # return後面默認是None\n",
        "        return\n",
        "\n",
        "        # 如果沒有初始化過，那就要執行初始化動作，並且把flag做更改\n",
        "        print(\"執行初始化動作\")\n",
        "        Single_ins.init_flag = True "
      ]
    },
    {
      "cell_type": "code",
      "source": [
        "《觀察者模式 - 賽事看板羣組》\n",
        "\n",
        "# 演講者(主體對象subject)對有興趣的聽衆(觀察者observer)傳遞訊息，對沒興趣的聽衆忽略掉\n",
        "\n",
        "\n",
        "class Subject:\n",
        "    def __init__(self):\n",
        "        # 主體必須知道有哪些觀察者\n",
        "        # 因爲這邊不在乎觀察者的順序，而且每個帳號(觀察者)必須只有一個存在，所以使用set\n",
        "        self.observers = set()\n",
        "\n",
        "    def register(self, who):\n",
        "        # 將申請的帳號加入這個訊息羣組\n",
        "        self.observers.add(who)\n",
        "\n",
        "    def unregister(self, who):\n",
        "        # 對set()加入、刪除元素，是用add(元素)、discard(元素)\n",
        "        self.observers.discard(who)\n",
        "\n",
        "    def dispatch(self, message):\n",
        "        for observers in self.observers:\n",
        "            # 對Observer類物件，調用update方法，更新物件接收到的資訊\n",
        "            observers.update(message)\n",
        "\n",
        "\n",
        "class Observer:\n",
        "    def __init__(self, name):\n",
        "        # 羣組成員必須有各自的帳號(昵稱)以作爲個人識別\n",
        "        self.name = name\n",
        "\n",
        "    def update(self, message):\n",
        "        # 接收來自subject的訊息，更新自身物件內部的資訊\n",
        "        print(\"{} 收到了一則訊息： {}\".format(self.name, message))\n",
        "\n",
        "\n",
        "# 就算都沒有人，也還是會有主體\n",
        "# 而主體就是公告欄，會記載所有的資訊，包括有哪些帳號進來，目前賽事的最新進度等\n",
        "screen = Subject()\n",
        "\n",
        "# 有3個帳號申請進羣組\n",
        "observer1 = Observer(\"people1\")\n",
        "observer2 = Observer(\"people2\")\n",
        "observer3 = Observer(\"people3\")\n",
        "\n",
        "# 主體將申請的帳號加入這個訊息羣組\n",
        "screen.register(observer1)\n",
        "screen.register(observer2)\n",
        "screen.register(observer3)\n",
        "\n",
        "# 主體發送訊息給所有羣組成員\n",
        "screen.dispatch('英格蘭隊進球，比分0：1')\n",
        "# people2 收到了一則訊息： 英格蘭隊進球，比分0：1\n",
        "# people1 收到了一則訊息： 英格蘭隊進球，比分0：1\n",
        "# people3 收到了一則訊息： 英格蘭隊進球，比分0：1\n",
        "\n",
        "# 羣組成員observerA看了訊息覺得不爽，決定申請離開\n",
        "# 主體從羣組中剔除成員observerA\n",
        "screen.unregister(observer1)\n",
        "\n",
        "# 主體發送訊息給所有羣組成員\n",
        "screen.dispatch('英格蘭隊猛攻，比分0：2，比賽結束')\n",
        "# people2 收到了一則訊息： 英格蘭隊猛攻，比分0：2，比賽結束\n",
        "# people3 收到了一則訊息： 英格蘭隊猛攻，比分0：2，比賽結束\n",
        "\n",
        "# 比賽結束，主體從羣組中剔除剩餘成員observerB、observerC\n",
        "screen.unregister(observer2)\n",
        "screen.unregister(observer3)\n"
      ],
      "metadata": {
        "id": "ihok-blOVHVL"
      },
      "execution_count": null,
      "outputs": []
    }
  ]
}